{
 "cells": [
  {
   "cell_type": "markdown",
   "metadata": {},
   "source": [
    "#### Importing Dependencies"
   ]
  },
  {
   "cell_type": "code",
   "execution_count": 1,
   "metadata": {},
   "outputs": [
    {
     "name": "stderr",
     "output_type": "stream",
     "text": [
      "C:\\Users\\Tanya Joon\\AppData\\Local\\Continuum\\anaconda3\\lib\\site-packages\\sklearn\\externals\\joblib\\__init__.py:15: DeprecationWarning: sklearn.externals.joblib is deprecated in 0.21 and will be removed in 0.23. Please import this functionality directly from joblib, which can be installed with: pip install joblib. If this warning is raised when loading pickled models, you may need to re-serialize those models with scikit-learn 0.21+.\n",
      "  warnings.warn(msg, category=DeprecationWarning)\n"
     ]
    }
   ],
   "source": [
    "import pandas as pd\n",
    "from sklearn.model_selection import train_test_split\n",
    "import os\n",
    "import numpy as np\n",
    "from shutil import copyfile\n",
    "from nibabel.testing import data_path\n",
    "import nibabel as nib\n",
    "import matplotlib.pyplot as plt\n",
    "from nilearn.plotting import view_img, glass_brain, plot_anat, plot_epi\n",
    "import glob\n",
    "from sklearn.svm import SVC\n",
    "from sklearn.metrics import classification_report, confusion_matrix\n",
    "from sklearn.model_selection import train_test_split\n",
    "from sklearn.model_selection import KFold # import KFold\n",
    "from sklearn.metrics import mean_squared_error,r2_score\n",
    "from sklearn import metrics\n"
   ]
  },
  {
   "cell_type": "markdown",
   "metadata": {},
   "source": [
    "#### Importing Preprossed Data CSV file"
   ]
  },
  {
   "cell_type": "code",
   "execution_count": 2,
   "metadata": {},
   "outputs": [
    {
     "data": {
      "text/html": [
       "<div>\n",
       "<style scoped>\n",
       "    .dataframe tbody tr th:only-of-type {\n",
       "        vertical-align: middle;\n",
       "    }\n",
       "\n",
       "    .dataframe tbody tr th {\n",
       "        vertical-align: top;\n",
       "    }\n",
       "\n",
       "    .dataframe thead th {\n",
       "        text-align: right;\n",
       "    }\n",
       "</style>\n",
       "<table border=\"1\" class=\"dataframe\">\n",
       "  <thead>\n",
       "    <tr style=\"text-align: right;\">\n",
       "      <th></th>\n",
       "      <th>filename</th>\n",
       "      <th>target</th>\n",
       "    </tr>\n",
       "  </thead>\n",
       "  <tbody>\n",
       "    <tr>\n",
       "      <td>0</td>\n",
       "      <td>3123_functional.nii</td>\n",
       "      <td>PD</td>\n",
       "    </tr>\n",
       "    <tr>\n",
       "      <td>1</td>\n",
       "      <td>3124_functional.nii</td>\n",
       "      <td>PD</td>\n",
       "    </tr>\n",
       "    <tr>\n",
       "      <td>2</td>\n",
       "      <td>3125_functional.nii</td>\n",
       "      <td>PD</td>\n",
       "    </tr>\n",
       "    <tr>\n",
       "      <td>3</td>\n",
       "      <td>3132_functional.nii</td>\n",
       "      <td>PD</td>\n",
       "    </tr>\n",
       "    <tr>\n",
       "      <td>4</td>\n",
       "      <td>3201_1_functional.nii</td>\n",
       "      <td>control</td>\n",
       "    </tr>\n",
       "    <tr>\n",
       "      <td>...</td>\n",
       "      <td>...</td>\n",
       "      <td>...</td>\n",
       "    </tr>\n",
       "    <tr>\n",
       "      <td>119</td>\n",
       "      <td>4116_3_functional.nii</td>\n",
       "      <td>control</td>\n",
       "    </tr>\n",
       "    <tr>\n",
       "      <td>120</td>\n",
       "      <td>4116_4_functional.nii</td>\n",
       "      <td>control</td>\n",
       "    </tr>\n",
       "    <tr>\n",
       "      <td>121</td>\n",
       "      <td>4116_5_functional.nii</td>\n",
       "      <td>control</td>\n",
       "    </tr>\n",
       "    <tr>\n",
       "      <td>122</td>\n",
       "      <td>4117_functional.nii</td>\n",
       "      <td>PD</td>\n",
       "    </tr>\n",
       "    <tr>\n",
       "      <td>123</td>\n",
       "      <td>4135_functional.nii</td>\n",
       "      <td>PD</td>\n",
       "    </tr>\n",
       "  </tbody>\n",
       "</table>\n",
       "<p>124 rows × 2 columns</p>\n",
       "</div>"
      ],
      "text/plain": [
       "                  filename   target\n",
       "0      3123_functional.nii       PD\n",
       "1      3124_functional.nii       PD\n",
       "2      3125_functional.nii       PD\n",
       "3      3132_functional.nii       PD\n",
       "4    3201_1_functional.nii  control\n",
       "..                     ...      ...\n",
       "119  4116_3_functional.nii  control\n",
       "120  4116_4_functional.nii  control\n",
       "121  4116_5_functional.nii  control\n",
       "122    4117_functional.nii       PD\n",
       "123    4135_functional.nii       PD\n",
       "\n",
       "[124 rows x 2 columns]"
      ]
     },
     "execution_count": 2,
     "metadata": {},
     "output_type": "execute_result"
    }
   ],
   "source": [
    "data=pd.read_csv('Data.csv')\n",
    "data"
   ]
  },
  {
   "cell_type": "markdown",
   "metadata": {},
   "source": [
    "#### importing data"
   ]
  },
  {
   "cell_type": "code",
   "execution_count": 5,
   "metadata": {},
   "outputs": [
    {
     "data": {
      "text/plain": [
       "124"
      ]
     },
     "execution_count": 5,
     "metadata": {},
     "output_type": "execute_result"
    }
   ],
   "source": [
    "ff = glob.glob('all_data/*')\n",
    "len(ff)"
   ]
  },
  {
   "cell_type": "markdown",
   "metadata": {},
   "source": [
    "#### Initializing an array to store the images"
   ]
  },
  {
   "cell_type": "code",
   "execution_count": 6,
   "metadata": {},
   "outputs": [
    {
     "name": "stdout",
     "output_type": "stream",
     "text": [
      "[]\n"
     ]
    }
   ],
   "source": [
    "images = []\n",
    "print(images)"
   ]
  },
  {
   "cell_type": "markdown",
   "metadata": {},
   "source": [
    "#### Loading images\n",
    "#### Shape Correction (taking middle 30 slides for each scan)\n",
    "#### appending the images into array"
   ]
  },
  {
   "cell_type": "code",
   "execution_count": 7,
   "metadata": {},
   "outputs": [
    {
     "name": "stdout",
     "output_type": "stream",
     "text": [
      "all_data\\3123_functional.nii\n",
      "all_data\\3124_functional.nii\n",
      "all_data\\3125_functional.nii\n",
      "all_data\\3132_functional.nii\n",
      "all_data\\3201_1_functional.nii\n",
      "all_data\\3201_2_functional.nii\n",
      "all_data\\3201_3_functional.nii\n",
      "all_data\\3201_4_functional.nii\n",
      "all_data\\3220_functional.nii\n",
      "all_data\\3223_functional.nii\n",
      "all_data\\3225_functional.nii\n",
      "all_data\\3228_functional.nii\n",
      "all_data\\3230_functional.nii\n",
      "all_data\\3234_functional.nii\n",
      "all_data\\3235_1_functional.nii\n",
      "all_data\\3235_2_functional.nii\n",
      "all_data\\3237_1_functional.nii\n",
      "all_data\\3237_2_functional.nii\n",
      "all_data\\3237_3_functional.nii\n",
      "all_data\\3237_4_functional.nii\n",
      "all_data\\3409_functional.nii\n",
      "all_data\\3418_functional.nii\n",
      "all_data\\3422_functional.nii\n",
      "all_data\\3423_functional.nii\n",
      "all_data\\3431_functional.nii\n",
      "all_data\\3433_functional.nii\n",
      "all_data\\3435_functional.nii\n",
      "all_data\\3436_functional.nii\n",
      "all_data\\3443_functional.nii\n",
      "all_data\\3444_functional.nii\n",
      "all_data\\3445_functional.nii\n",
      "all_data\\3448_functional.nii\n",
      "all_data\\3453_1_functional.nii\n",
      "all_data\\3453_2_functional.nii\n",
      "all_data\\3453_3_functional.nii\n",
      "all_data\\3453_4_functional.nii\n",
      "all_data\\3459_functional.nii\n",
      "all_data\\3460_1_functional.nii\n",
      "all_data\\3460_2_functional.nii\n",
      "all_data\\3460_3_functional.nii\n",
      "all_data\\3460_4_functional.nii\n",
      "all_data\\3468_1_functional.nii\n",
      "all_data\\3468_2_functional.nii\n",
      "all_data\\3468_3_functional.nii\n",
      "all_data\\3468_4_functional.nii\n",
      "all_data\\3551_1_functional.nii\n",
      "all_data\\3551_2_functional.nii\n",
      "all_data\\3551_3_functional.nii\n",
      "all_data\\3551_4_functional.nii\n",
      "all_data\\3661_functional.nii\n",
      "all_data\\3662_1_functional.nii\n",
      "all_data\\3662_2_functional.nii\n",
      "all_data\\3664_functional.nii\n",
      "all_data\\3665_functional.nii\n",
      "all_data\\3666_functional.nii\n",
      "all_data\\3900_functional.nii\n",
      "all_data\\3901_1_functional.nii\n",
      "all_data\\3901_2_functional.nii\n",
      "all_data\\3901_3_functional.nii\n",
      "all_data\\3901_4_functional.nii\n",
      "all_data\\3905_functional.nii\n",
      "all_data\\3908_1_functional.nii\n",
      "all_data\\3908_2_functional.nii\n",
      "all_data\\3908_3_functional.nii\n",
      "all_data\\3908_4_functional.nii\n",
      "all_data\\3908_5_functional.nii\n",
      "all_data\\3908_6_functional.nii\n",
      "all_data\\3908_7_functional.nii\n",
      "all_data\\3908_8_functional.nii\n",
      "all_data\\3910_functional.nii\n",
      "all_data\\3911_functional.nii\n",
      "all_data\\3914_functional.nii\n",
      "all_data\\3916_functional.nii\n",
      "all_data\\3917_1_functional.nii\n",
      "all_data\\3917_2_functional.nii\n",
      "all_data\\3917_3_functional.nii\n",
      "all_data\\3917_4_functional.nii\n",
      "all_data\\4051_functional.nii\n",
      "all_data\\4055_functional.nii\n",
      "all_data\\4057_functional.nii\n",
      "all_data\\4058_functional.nii\n",
      "all_data\\4081_functional.nii\n",
      "all_data\\4082_functional.nii\n",
      "all_data\\4083_functional.nii\n",
      "all_data\\4085_1_functional.nii\n",
      "all_data\\4085_2_functional.nii\n",
      "all_data\\4085_3_functional.nii\n",
      "all_data\\4085_4_functional.nii\n",
      "all_data\\4091_functional.nii\n",
      "all_data\\4093_functional.nii\n",
      "all_data\\4094_functional.nii\n",
      "all_data\\4096_functional.nii\n",
      "all_data\\4098_functional.nii\n",
      "all_data\\4100_1_functional.nii\n",
      "all_data\\4100_2_functional.nii\n",
      "all_data\\4100_3_functional.nii\n",
      "all_data\\4100_4_functional.nii\n",
      "all_data\\4100_5_functional.nii\n",
      "all_data\\4102_functional.nii\n",
      "all_data\\4104_1_functional.nii\n",
      "all_data\\4104_2_functional.nii\n",
      "all_data\\4104_3_functional.nii\n",
      "all_data\\4104_4_functional.nii\n",
      "all_data\\4104_5_functional.nii\n",
      "all_data\\4104_6_functional.nii\n",
      "all_data\\4104_7_functional.nii\n",
      "all_data\\4104_8_functional.nii\n",
      "all_data\\4104_9_functional.nii\n",
      "all_data\\4105_1_functional.nii\n",
      "all_data\\4105_2_functional.nii\n",
      "all_data\\4105_3_functional.nii\n",
      "all_data\\4105_4_functional.nii\n",
      "all_data\\4105_5_functional.nii\n",
      "all_data\\4106_functional.nii\n",
      "all_data\\4108_functional.nii\n",
      "all_data\\4111_functional.nii\n",
      "all_data\\4113_functional.nii\n",
      "all_data\\4116_1_functional.nii\n",
      "all_data\\4116_2_functional.nii\n",
      "all_data\\4116_3_functional.nii\n",
      "all_data\\4116_4_functional.nii\n",
      "all_data\\4116_5_functional.nii\n",
      "all_data\\4117_functional.nii\n",
      "all_data\\4135_functional.nii\n"
     ]
    }
   ],
   "source": [
    "for f in range(len(ff)):\n",
    "    a = nib.load(ff[f])\n",
    "    print(ff[f])\n",
    "    l1,l2,l3=a.shape\n",
    "    #print(l1,l2,l3)\n",
    "    a = a.get_data()\n",
    "    #print(a)\n",
    "    \n",
    "    z1= int(l3/2) -15\n",
    "    z2= int(l3/2) +15\n",
    "    a = a[:,:,z1:z2]\n",
    "    #print(a)\n",
    "    #for i in range (len(ff)):\n",
    "    images.append((a[:,:,:]))\n",
    "    #print (a.shape)\n",
    "#print(images)"
   ]
  },
  {
   "cell_type": "markdown",
   "metadata": {},
   "source": [
    "#### Checking Dimension of Image Stack"
   ]
  },
  {
   "cell_type": "code",
   "execution_count": 8,
   "metadata": {},
   "outputs": [
    {
     "data": {
      "text/plain": [
       "(124, 128, 128, 30)"
      ]
     },
     "execution_count": 8,
     "metadata": {},
     "output_type": "execute_result"
    }
   ],
   "source": [
    "imagess=np.asarray(images)\n",
    "imagess.shape"
   ]
  },
  {
   "cell_type": "markdown",
   "metadata": {},
   "source": [
    "#### Min Max Normalization"
   ]
  },
  {
   "cell_type": "code",
   "execution_count": 9,
   "metadata": {},
   "outputs": [],
   "source": [
    "m = np.max(imagess)\n",
    "mi = np.min(imagess)"
   ]
  },
  {
   "cell_type": "code",
   "execution_count": 10,
   "metadata": {},
   "outputs": [
    {
     "name": "stdout",
     "output_type": "stream",
     "text": [
      "32767.0 -607.0\n"
     ]
    }
   ],
   "source": [
    "print(m, mi)"
   ]
  },
  {
   "cell_type": "code",
   "execution_count": 11,
   "metadata": {},
   "outputs": [],
   "source": [
    "images = (images - mi) / (m - mi)"
   ]
  },
  {
   "cell_type": "code",
   "execution_count": 12,
   "metadata": {},
   "outputs": [
    {
     "data": {
      "text/plain": [
       "(0.0, 1.0)"
      ]
     },
     "execution_count": 12,
     "metadata": {},
     "output_type": "execute_result"
    }
   ],
   "source": [
    "np.min(images), np.max(images)"
   ]
  },
  {
   "cell_type": "code",
   "execution_count": 13,
   "metadata": {},
   "outputs": [
    {
     "data": {
      "text/plain": [
       "array([[[[ 0.,  0.,  0., ...,  0.,  0.,  0.],\n",
       "         [ 0.,  0.,  0., ...,  0.,  0.,  0.],\n",
       "         [ 0.,  0.,  0., ...,  0.,  0.,  0.],\n",
       "         ...,\n",
       "         [ 0.,  0.,  0., ...,  0.,  0.,  0.],\n",
       "         [ 0.,  0.,  0., ...,  0.,  0.,  0.],\n",
       "         [ 0.,  0.,  0., ...,  0.,  0.,  0.]],\n",
       "\n",
       "        [[ 0.,  0.,  0., ...,  0.,  0.,  0.],\n",
       "         [ 0.,  0.,  0., ...,  0.,  0.,  0.],\n",
       "         [ 0.,  0.,  0., ...,  0.,  0.,  0.],\n",
       "         ...,\n",
       "         [ 0.,  0.,  0., ...,  0.,  0.,  0.],\n",
       "         [ 0.,  0.,  0., ...,  0.,  0.,  0.],\n",
       "         [ 0.,  0.,  0., ...,  0.,  0.,  0.]],\n",
       "\n",
       "        [[ 0.,  0.,  0., ...,  0.,  0.,  0.],\n",
       "         [ 0.,  0.,  0., ...,  0.,  0.,  0.],\n",
       "         [ 0.,  0.,  0., ...,  0.,  0.,  0.],\n",
       "         ...,\n",
       "         [ 0.,  0.,  0., ...,  0.,  0.,  0.],\n",
       "         [ 0.,  0.,  0., ...,  0.,  0.,  0.],\n",
       "         [ 0.,  0.,  0., ...,  0.,  0.,  0.]],\n",
       "\n",
       "        ...,\n",
       "\n",
       "        [[ 0.,  0.,  0., ...,  0.,  0.,  0.],\n",
       "         [ 0.,  0.,  0., ...,  0.,  0.,  0.],\n",
       "         [ 0.,  0.,  0., ...,  0.,  0.,  0.],\n",
       "         ...,\n",
       "         [ 0.,  0.,  0., ...,  0.,  0.,  0.],\n",
       "         [ 0.,  0.,  0., ...,  0.,  0.,  0.],\n",
       "         [ 0.,  0.,  0., ...,  0.,  0.,  0.]],\n",
       "\n",
       "        [[ 0.,  0.,  0., ...,  0.,  0.,  0.],\n",
       "         [ 0.,  0.,  0., ...,  0.,  0.,  0.],\n",
       "         [ 0.,  0.,  0., ...,  0.,  0.,  0.],\n",
       "         ...,\n",
       "         [ 0.,  0.,  0., ...,  0.,  0.,  0.],\n",
       "         [ 0.,  0.,  0., ...,  0.,  0.,  0.],\n",
       "         [ 0.,  0.,  0., ...,  0.,  0.,  0.]],\n",
       "\n",
       "        [[ 0.,  0.,  0., ...,  0.,  0.,  0.],\n",
       "         [ 0.,  0.,  0., ...,  0.,  0.,  0.],\n",
       "         [ 0.,  0.,  0., ...,  0.,  0.,  0.],\n",
       "         ...,\n",
       "         [ 0.,  0.,  0., ...,  0.,  0.,  0.],\n",
       "         [ 0.,  0.,  0., ...,  0.,  0.,  0.],\n",
       "         [ 0.,  0.,  0., ...,  0.,  0.,  0.]]],\n",
       "\n",
       "\n",
       "       [[[ 0.,  0.,  0., ...,  0.,  0.,  0.],\n",
       "         [ 0.,  0.,  0., ...,  0.,  0.,  0.],\n",
       "         [ 0.,  0.,  0., ...,  0.,  0.,  0.],\n",
       "         ...,\n",
       "         [ 0.,  0.,  0., ...,  0.,  0.,  0.],\n",
       "         [ 0.,  0.,  0., ...,  0.,  0.,  0.],\n",
       "         [ 0.,  0.,  0., ...,  0.,  0.,  0.]],\n",
       "\n",
       "        [[ 0.,  0.,  0., ...,  0.,  0.,  0.],\n",
       "         [ 0.,  0.,  0., ...,  0.,  0.,  0.],\n",
       "         [ 0.,  0.,  0., ...,  0.,  0.,  0.],\n",
       "         ...,\n",
       "         [ 0.,  0.,  0., ...,  0.,  0.,  0.],\n",
       "         [ 0.,  0.,  0., ...,  0.,  0.,  0.],\n",
       "         [ 0.,  0.,  0., ...,  0.,  0.,  0.]],\n",
       "\n",
       "        [[ 0.,  0.,  0., ...,  0.,  0.,  0.],\n",
       "         [ 0.,  0.,  0., ...,  0.,  0.,  0.],\n",
       "         [ 0.,  0.,  0., ...,  0.,  0.,  0.],\n",
       "         ...,\n",
       "         [ 0.,  0.,  0., ...,  0.,  0.,  0.],\n",
       "         [ 0.,  0.,  0., ...,  0.,  0.,  0.],\n",
       "         [ 0.,  0.,  0., ...,  0.,  0.,  0.]],\n",
       "\n",
       "        ...,\n",
       "\n",
       "        [[ 0.,  0.,  0., ...,  0.,  0.,  0.],\n",
       "         [ 0.,  0.,  0., ...,  0.,  0.,  0.],\n",
       "         [ 0.,  0.,  0., ...,  0.,  0.,  0.],\n",
       "         ...,\n",
       "         [ 0.,  0.,  0., ...,  0.,  0.,  0.],\n",
       "         [ 0.,  0.,  0., ...,  0.,  0.,  0.],\n",
       "         [ 0.,  0.,  0., ...,  0.,  0.,  0.]],\n",
       "\n",
       "        [[ 0.,  0.,  0., ...,  0.,  0.,  0.],\n",
       "         [ 0.,  0.,  0., ...,  0.,  0.,  0.],\n",
       "         [ 0.,  0.,  0., ...,  0.,  0.,  0.],\n",
       "         ...,\n",
       "         [ 0.,  0.,  0., ...,  0.,  0.,  0.],\n",
       "         [ 0.,  0.,  0., ...,  0.,  0.,  0.],\n",
       "         [ 0.,  0.,  0., ...,  0.,  0.,  0.]],\n",
       "\n",
       "        [[ 0.,  0.,  0., ...,  0.,  0.,  0.],\n",
       "         [ 0.,  0.,  0., ...,  0.,  0.,  0.],\n",
       "         [ 0.,  0.,  0., ...,  0.,  0.,  0.],\n",
       "         ...,\n",
       "         [ 0.,  0.,  0., ...,  0.,  0.,  0.],\n",
       "         [ 0.,  0.,  0., ...,  0.,  0.,  0.],\n",
       "         [ 0.,  0.,  0., ...,  0.,  0.,  0.]]],\n",
       "\n",
       "\n",
       "       [[[ 0.,  0.,  0., ...,  0.,  0.,  0.],\n",
       "         [ 0.,  0.,  0., ...,  0.,  0.,  0.],\n",
       "         [ 0.,  0.,  0., ...,  0.,  0.,  0.],\n",
       "         ...,\n",
       "         [ 0.,  0.,  0., ...,  0.,  0.,  0.],\n",
       "         [ 0.,  0.,  0., ...,  0.,  0.,  0.],\n",
       "         [ 0.,  0.,  0., ...,  0.,  0.,  0.]],\n",
       "\n",
       "        [[ 0.,  0.,  0., ...,  0.,  0.,  0.],\n",
       "         [ 0.,  0.,  0., ...,  0.,  0.,  0.],\n",
       "         [ 0.,  0.,  0., ...,  0.,  0.,  0.],\n",
       "         ...,\n",
       "         [ 0.,  0.,  0., ...,  0.,  0.,  0.],\n",
       "         [ 0.,  0.,  0., ...,  0.,  0.,  0.],\n",
       "         [ 0.,  0.,  0., ...,  0.,  0.,  0.]],\n",
       "\n",
       "        [[ 0.,  0.,  0., ...,  0.,  0.,  0.],\n",
       "         [ 0.,  0.,  0., ...,  0.,  0.,  0.],\n",
       "         [ 0.,  0.,  0., ...,  0.,  0.,  0.],\n",
       "         ...,\n",
       "         [ 0.,  0.,  0., ...,  0.,  0.,  0.],\n",
       "         [ 0.,  0.,  0., ...,  0.,  0.,  0.],\n",
       "         [ 0.,  0.,  0., ...,  0.,  0.,  0.]],\n",
       "\n",
       "        ...,\n",
       "\n",
       "        [[ 0.,  0.,  0., ...,  0.,  0.,  0.],\n",
       "         [ 0.,  0.,  0., ...,  0.,  0.,  0.],\n",
       "         [ 0.,  0.,  0., ...,  0.,  0.,  0.],\n",
       "         ...,\n",
       "         [ 0.,  0.,  0., ...,  0.,  0.,  0.],\n",
       "         [ 0.,  0.,  0., ...,  0.,  0.,  0.],\n",
       "         [ 0.,  0.,  0., ...,  0.,  0.,  0.]],\n",
       "\n",
       "        [[ 0.,  0.,  0., ...,  0.,  0.,  0.],\n",
       "         [ 0.,  0.,  0., ...,  0.,  0.,  0.],\n",
       "         [ 0.,  0.,  0., ...,  0.,  0.,  0.],\n",
       "         ...,\n",
       "         [ 0.,  0.,  0., ...,  0.,  0.,  0.],\n",
       "         [ 0.,  0.,  0., ...,  0.,  0.,  0.],\n",
       "         [ 0.,  0.,  0., ...,  0.,  0.,  0.]],\n",
       "\n",
       "        [[ 0.,  0.,  0., ...,  0.,  0.,  0.],\n",
       "         [ 0.,  0.,  0., ...,  0.,  0.,  0.],\n",
       "         [ 0.,  0.,  0., ...,  0.,  0.,  0.],\n",
       "         ...,\n",
       "         [ 0.,  0.,  0., ...,  0.,  0.,  0.],\n",
       "         [ 0.,  0.,  0., ...,  0.,  0.,  0.],\n",
       "         [ 0.,  0.,  0., ...,  0.,  0.,  0.]]],\n",
       "\n",
       "\n",
       "       ...,\n",
       "\n",
       "\n",
       "       [[[ 0.,  0.,  0., ...,  0.,  0.,  0.],\n",
       "         [ 0.,  0.,  0., ...,  0.,  0.,  0.],\n",
       "         [ 0.,  0.,  0., ...,  0.,  0., -0.],\n",
       "         ...,\n",
       "         [ 0.,  0.,  0., ...,  0.,  0., -0.],\n",
       "         [ 0.,  0., -0., ...,  0.,  0., -0.],\n",
       "         [ 0.,  0.,  0., ...,  0.,  0., -0.]],\n",
       "\n",
       "        [[ 0.,  0.,  0., ...,  0.,  0.,  0.],\n",
       "         [ 0.,  0.,  0., ...,  0.,  0.,  0.],\n",
       "         [ 0.,  0.,  0., ...,  0.,  0.,  0.],\n",
       "         ...,\n",
       "         [ 0.,  0.,  0., ...,  0.,  0.,  0.],\n",
       "         [ 0.,  0., -0., ...,  0.,  0.,  0.],\n",
       "         [ 0.,  0.,  0., ...,  0.,  0.,  0.]],\n",
       "\n",
       "        [[ 0.,  0.,  0., ...,  0.,  0., -0.],\n",
       "         [ 0.,  0.,  0., ..., -0.,  0.,  0.],\n",
       "         [ 0.,  0.,  0., ..., -0., -0.,  0.],\n",
       "         ...,\n",
       "         [ 0.,  0.,  0., ...,  0.,  0.,  0.],\n",
       "         [ 0.,  0., -0., ...,  0.,  0.,  0.],\n",
       "         [ 0.,  0.,  0., ...,  0.,  0.,  0.]],\n",
       "\n",
       "        ...,\n",
       "\n",
       "        [[ 0.,  0.,  0., ...,  0.,  0.,  0.],\n",
       "         [ 0.,  0.,  0., ...,  0.,  0.,  0.],\n",
       "         [ 0.,  0.,  0., ...,  0.,  0.,  0.],\n",
       "         ...,\n",
       "         [ 0.,  0.,  0., ...,  0.,  0.,  0.],\n",
       "         [ 0.,  0.,  0., ...,  0.,  0.,  0.],\n",
       "         [ 0.,  0.,  0., ...,  0.,  0.,  0.]],\n",
       "\n",
       "        [[-0.,  0.,  0., ...,  0., -0., -0.],\n",
       "         [-0., -0.,  0., ...,  0.,  0.,  0.],\n",
       "         [-0., -0.,  0., ...,  0.,  0.,  0.],\n",
       "         ...,\n",
       "         [ 0.,  0.,  0., ...,  0.,  0.,  0.],\n",
       "         [ 0.,  0.,  0., ...,  0.,  0.,  0.],\n",
       "         [ 0.,  0.,  0., ...,  0.,  0.,  0.]],\n",
       "\n",
       "        [[ 0.,  0.,  0., ...,  0., -0., -0.],\n",
       "         [ 0.,  0.,  0., ...,  0.,  0.,  0.],\n",
       "         [ 0.,  0.,  0., ...,  0.,  0.,  0.],\n",
       "         ...,\n",
       "         [ 0.,  0.,  0., ...,  0.,  0.,  0.],\n",
       "         [ 0.,  0.,  0., ...,  0.,  0.,  0.],\n",
       "         [ 0.,  0.,  0., ...,  0.,  0.,  0.]]],\n",
       "\n",
       "\n",
       "       [[[ 0.,  0.,  0., ...,  0.,  0.,  0.],\n",
       "         [ 0.,  0.,  0., ...,  0.,  0.,  0.],\n",
       "         [ 0.,  0.,  0., ...,  0.,  0.,  0.],\n",
       "         ...,\n",
       "         [ 0.,  0.,  0., ...,  0.,  0.,  0.],\n",
       "         [ 0.,  0.,  0., ...,  0.,  0.,  0.],\n",
       "         [ 0.,  0.,  0., ...,  0.,  0.,  0.]],\n",
       "\n",
       "        [[ 0.,  0.,  0., ...,  0.,  0.,  0.],\n",
       "         [ 0.,  0.,  0., ...,  0.,  0.,  0.],\n",
       "         [ 0.,  0.,  0., ...,  0.,  0.,  0.],\n",
       "         ...,\n",
       "         [ 0.,  0.,  0., ...,  0.,  0.,  0.],\n",
       "         [ 0.,  0.,  0., ...,  0.,  0.,  0.],\n",
       "         [ 0.,  0.,  0., ...,  0.,  0.,  0.]],\n",
       "\n",
       "        [[ 0.,  0.,  0., ...,  0.,  0.,  0.],\n",
       "         [ 0.,  0.,  0., ...,  0.,  0.,  0.],\n",
       "         [ 0.,  0.,  0., ...,  0.,  0.,  0.],\n",
       "         ...,\n",
       "         [ 0.,  0.,  0., ...,  0.,  0.,  0.],\n",
       "         [ 0.,  0.,  0., ...,  0.,  0.,  0.],\n",
       "         [ 0.,  0.,  0., ...,  0.,  0.,  0.]],\n",
       "\n",
       "        ...,\n",
       "\n",
       "        [[ 0.,  0.,  0., ...,  0.,  0.,  0.],\n",
       "         [ 0.,  0.,  0., ...,  0.,  0.,  0.],\n",
       "         [ 0.,  0.,  0., ...,  0.,  0.,  0.],\n",
       "         ...,\n",
       "         [ 0.,  0.,  0., ...,  0.,  0.,  0.],\n",
       "         [ 0.,  0.,  0., ...,  0.,  0.,  0.],\n",
       "         [ 0.,  0.,  0., ...,  0.,  0.,  0.]],\n",
       "\n",
       "        [[ 0.,  0.,  0., ...,  0.,  0.,  0.],\n",
       "         [ 0.,  0.,  0., ...,  0.,  0.,  0.],\n",
       "         [ 0.,  0.,  0., ...,  0.,  0.,  0.],\n",
       "         ...,\n",
       "         [ 0.,  0.,  0., ...,  0.,  0.,  0.],\n",
       "         [ 0.,  0.,  0., ...,  0.,  0.,  0.],\n",
       "         [ 0.,  0.,  0., ...,  0.,  0.,  0.]],\n",
       "\n",
       "        [[ 0.,  0.,  0., ...,  0.,  0.,  0.],\n",
       "         [ 0.,  0.,  0., ...,  0.,  0.,  0.],\n",
       "         [ 0.,  0.,  0., ...,  0.,  0.,  0.],\n",
       "         ...,\n",
       "         [ 0.,  0.,  0., ...,  0.,  0.,  0.],\n",
       "         [ 0.,  0.,  0., ...,  0.,  0.,  0.],\n",
       "         [ 0.,  0.,  0., ...,  0.,  0.,  0.]]],\n",
       "\n",
       "\n",
       "       [[[ 0.,  0.,  0., ...,  0.,  0.,  0.],\n",
       "         [ 0.,  0.,  0., ...,  0.,  0.,  0.],\n",
       "         [ 0.,  0.,  0., ...,  0.,  0.,  0.],\n",
       "         ...,\n",
       "         [ 0.,  0.,  0., ...,  0.,  0.,  0.],\n",
       "         [ 0.,  0.,  0., ...,  0.,  0.,  0.],\n",
       "         [ 0.,  0.,  0., ...,  0.,  0.,  0.]],\n",
       "\n",
       "        [[ 0.,  0.,  0., ...,  0.,  0.,  0.],\n",
       "         [ 0.,  0.,  0., ...,  0.,  0.,  0.],\n",
       "         [ 0.,  0.,  0., ...,  0.,  0.,  0.],\n",
       "         ...,\n",
       "         [ 0.,  0.,  0., ...,  0.,  0.,  0.],\n",
       "         [ 0.,  0.,  0., ...,  0.,  0.,  0.],\n",
       "         [ 0.,  0.,  0., ...,  0.,  0.,  0.]],\n",
       "\n",
       "        [[ 0.,  0.,  0., ...,  0.,  0.,  0.],\n",
       "         [ 0.,  0.,  0., ...,  0.,  0.,  0.],\n",
       "         [ 0.,  0.,  0., ...,  0.,  0.,  0.],\n",
       "         ...,\n",
       "         [ 0.,  0.,  0., ...,  0.,  0.,  0.],\n",
       "         [ 0.,  0.,  0., ...,  0.,  0.,  0.],\n",
       "         [ 0.,  0.,  0., ...,  0.,  0.,  0.]],\n",
       "\n",
       "        ...,\n",
       "\n",
       "        [[ 0.,  0.,  0., ...,  0.,  0.,  0.],\n",
       "         [ 0.,  0.,  0., ...,  0.,  0.,  0.],\n",
       "         [ 0.,  0.,  0., ...,  0.,  0.,  0.],\n",
       "         ...,\n",
       "         [ 0.,  0.,  0., ...,  0.,  0.,  0.],\n",
       "         [ 0.,  0.,  0., ...,  0.,  0.,  0.],\n",
       "         [ 0.,  0.,  0., ...,  0.,  0.,  0.]],\n",
       "\n",
       "        [[ 0.,  0.,  0., ...,  0.,  0.,  0.],\n",
       "         [ 0.,  0.,  0., ...,  0.,  0.,  0.],\n",
       "         [ 0.,  0.,  0., ...,  0.,  0.,  0.],\n",
       "         ...,\n",
       "         [ 0.,  0.,  0., ...,  0.,  0.,  0.],\n",
       "         [ 0.,  0.,  0., ...,  0.,  0.,  0.],\n",
       "         [ 0.,  0.,  0., ...,  0.,  0.,  0.]],\n",
       "\n",
       "        [[ 0.,  0.,  0., ...,  0.,  0.,  0.],\n",
       "         [ 0.,  0.,  0., ...,  0.,  0.,  0.],\n",
       "         [ 0.,  0.,  0., ...,  0.,  0.,  0.],\n",
       "         ...,\n",
       "         [ 0.,  0.,  0., ...,  0.,  0.,  0.],\n",
       "         [ 0.,  0.,  0., ...,  0.,  0.,  0.],\n",
       "         [ 0.,  0.,  0., ...,  0.,  0.,  0.]]]], dtype=float32)"
      ]
     },
     "execution_count": 13,
     "metadata": {},
     "output_type": "execute_result"
    }
   ],
   "source": [
    "imagess"
   ]
  },
  {
   "cell_type": "markdown",
   "metadata": {},
   "source": [
    "#### Reading Output Labels"
   ]
  },
  {
   "cell_type": "code",
   "execution_count": 14,
   "metadata": {},
   "outputs": [
    {
     "name": "stdout",
     "output_type": "stream",
     "text": [
      "0      1\n",
      "1      1\n",
      "2      1\n",
      "3      1\n",
      "4      0\n",
      "      ..\n",
      "119    0\n",
      "120    0\n",
      "121    0\n",
      "122    1\n",
      "123    1\n",
      "Name: target, Length: 124, dtype: int64\n"
     ]
    }
   ],
   "source": [
    "data=pd.read_csv('Datacnn.csv')\n",
    "y=data.target\n",
    "print(y)"
   ]
  },
  {
   "cell_type": "markdown",
   "metadata": {},
   "source": [
    "#### Changing The 4D image Stack to a 2D Stack to feed into Random Forest Classifier"
   ]
  },
  {
   "cell_type": "code",
   "execution_count": 15,
   "metadata": {},
   "outputs": [],
   "source": [
    "nsamples, nx, ny, nz = imagess.shape\n",
    "train_dataset = imagess.reshape((nsamples,nx*ny*nz))"
   ]
  },
  {
   "cell_type": "code",
   "execution_count": 22,
   "metadata": {},
   "outputs": [
    {
     "data": {
      "text/plain": [
       "array([[0., 0., 0., ..., 0., 0., 0.],\n",
       "       [0., 0., 0., ..., 0., 0., 0.],\n",
       "       [0., 0., 0., ..., 0., 0., 0.],\n",
       "       ...,\n",
       "       [0., 0., 0., ..., 0., 0., 0.],\n",
       "       [0., 0., 0., ..., 0., 0., 0.],\n",
       "       [0., 0., 0., ..., 0., 0., 0.]], dtype=float32)"
      ]
     },
     "execution_count": 22,
     "metadata": {},
     "output_type": "execute_result"
    }
   ],
   "source": [
    "train_dataset"
   ]
  },
  {
   "cell_type": "markdown",
   "metadata": {},
   "source": [
    "#### Training SVM Using K=5 fold "
   ]
  },
  {
   "cell_type": "code",
   "execution_count": 43,
   "metadata": {},
   "outputs": [
    {
     "name": "stdout",
     "output_type": "stream",
     "text": [
      "KFold(n_splits=5, random_state=None, shuffle=True)\n",
      "Train: [  0   1   2   3   5   7   9  10  12  13  14  15  17  18  20  21  22  23\n",
      "  24  26  28  29  30  31  32  33  34  36  37  38  39  40  41  42  43  44\n",
      "  45  46  47  49  50  51  52  53  54  55  56  58  59  60  61  62  63  65\n",
      "  66  67  68  69  72  73  76  78  79  80  81  82  83  85  86  87  88  89\n",
      "  90  91  94  95  98  99 100 101 102 103 104 105 106 107 109 111 113 114\n",
      " 115 116 117 118 119 120 121 122 123] TEST: [  4   6   8  11  16  19  25  27  35  48  57  64  70  71  74  75  77  84\n",
      "  92  93  96  97 108 110 112]\n",
      "Scores from each Iteration:  [0.96]\n",
      "Train: [  1   2   3   4   6   7   8   9  10  11  12  14  15  16  17  18  19  20\n",
      "  21  22  23  24  25  27  28  29  30  31  32  33  34  35  36  37  38  39\n",
      "  40  42  45  46  47  48  50  51  52  54  55  56  57  59  61  62  64  65\n",
      "  66  67  68  70  71  73  74  75  76  77  78  79  80  81  82  83  84  87\n",
      "  88  90  91  92  93  96  97  98  99 100 103 104 105 106 107 108 109 110\n",
      " 111 112 113 114 115 118 119 120 122] TEST: [  0   5  13  26  41  43  44  49  53  58  60  63  69  72  85  86  89  94\n",
      "  95 101 102 116 117 121 123]\n",
      "Scores from each Iteration:  [0.96, 0.76]\n",
      "Train: [  0   1   3   4   5   6   8  10  11  13  14  15  16  17  18  19  20  21\n",
      "  23  25  26  27  28  29  30  31  33  34  35  36  37  39  40  41  43  44\n",
      "  45  46  48  49  50  51  53  55  56  57  58  59  60  62  63  64  65  67\n",
      "  68  69  70  71  72  73  74  75  77  78  79  81  83  84  85  86  88  89\n",
      "  91  92  93  94  95  96  97  98  99 100 101 102 103 106 107 108 110 112\n",
      " 113 114 115 116 117 119 121 122 123] TEST: [  2   7   9  12  22  24  32  38  42  47  52  54  61  66  76  80  82  87\n",
      "  90 104 105 109 111 118 120]\n",
      "Scores from each Iteration:  [0.96, 0.76, 0.88]\n",
      "Train: [  0   2   4   5   6   7   8   9  11  12  13  14  15  16  17  19  20  21\n",
      "  22  24  25  26  27  31  32  34  35  37  38  41  42  43  44  46  47  48\n",
      "  49  51  52  53  54  57  58  60  61  62  63  64  65  66  67  68  69  70\n",
      "  71  72  73  74  75  76  77  79  80  82  83  84  85  86  87  89  90  91\n",
      "  92  93  94  95  96  97  98 101 102 103 104 105 107 108 109 110 111 112\n",
      " 113 116 117 118 119 120 121 122 123] TEST: [  1   3  10  18  23  28  29  30  33  36  39  40  45  50  55  56  59  78\n",
      "  81  88  99 100 106 114 115]\n",
      "Scores from each Iteration:  [0.96, 0.76, 0.88, 0.84]\n",
      "Train: [  0   1   2   3   4   5   6   7   8   9  10  11  12  13  16  18  19  22\n",
      "  23  24  25  26  27  28  29  30  32  33  35  36  38  39  40  41  42  43\n",
      "  44  45  47  48  49  50  52  53  54  55  56  57  58  59  60  61  63  64\n",
      "  66  69  70  71  72  74  75  76  77  78  80  81  82  84  85  86  87  88\n",
      "  89  90  92  93  94  95  96  97  99 100 101 102 104 105 106 108 109 110\n",
      " 111 112 114 115 116 117 118 120 121 123] TEST: [ 14  15  17  20  21  31  34  37  46  51  62  65  67  68  73  79  83  91\n",
      "  98 103 107 113 119 122]\n",
      "Scores from each Iteration:  [0.96, 0.76, 0.88, 0.84, 0.8333333333333334]\n",
      "Scores from each Iteration:  [0.96, 0.76, 0.88, 0.84, 0.8333333333333334]\n",
      "Average K-Fold Score : 0.8546666666666667\n"
     ]
    }
   ],
   "source": [
    "kf = KFold(n_splits=5, random_state=None, shuffle=True) # Define the split - into 2 folds \n",
    "kf.get_n_splits(train_dataset) # returns the number of splitting iterations in the cross-validator\n",
    "print(kf) \n",
    "\n",
    "svclassifier = SVC(kernel='linear')\n",
    "scores=[]\n",
    "for train_index, test_index in kf.split(train_dataset):\n",
    "    print('Train:', train_index, 'TEST:', test_index)\n",
    "    x_train, x_test = train_dataset[train_index], train_dataset[test_index]\n",
    "    y_train, y_test = y[train_index], y[test_index]\n",
    "    model = svclassifier.fit(x_train, y_train)\n",
    "    y_pred = svclassifier.predict(x_test)\n",
    "    scores.append(model.score(x_test,y_test))\n",
    "    #scores.append(accuracy_score(y_test, y_pred))\n",
    "    print('Scores from each Iteration: ', scores)\n",
    "print('Scores from each Iteration: ', scores)\n",
    "print('Average K-Fold Score :' , np.mean(scores))"
   ]
  },
  {
   "cell_type": "code",
   "execution_count": 25,
   "metadata": {},
   "outputs": [
    {
     "name": "stdout",
     "output_type": "stream",
     "text": [
      "Dataset (images) shape: (124, 128, 128, 30)\n"
     ]
    }
   ],
   "source": [
    "# Shapes of training set\n",
    "print(\"Dataset (images) shape: {shape}\".format(shape=images.shape))"
   ]
  },
  {
   "cell_type": "markdown",
   "metadata": {},
   "source": [
    "#### Training Without K Fold Cross Validation\n",
    "#### Training (80%), Testing (20%)"
   ]
  },
  {
   "cell_type": "code",
   "execution_count": 31,
   "metadata": {},
   "outputs": [],
   "source": [
    "indices = np.arange(124)\n",
    "x_train,x_test,y_train,y_test, indices_train,indices_test =train_test_split(train_dataset,y,indices,test_size=0.2, random_state=13)\n",
    "\n",
    "\n",
    "\n"
   ]
  },
  {
   "cell_type": "code",
   "execution_count": 32,
   "metadata": {},
   "outputs": [],
   "source": [
    "svclassifier = SVC(kernel='linear')\n",
    "a=svclassifier.fit(x_train, y_train)\n",
    "y_pred = svclassifier.predict(x_test)"
   ]
  },
  {
   "cell_type": "markdown",
   "metadata": {},
   "source": [
    "#### Prediction results "
   ]
  },
  {
   "cell_type": "code",
   "execution_count": 36,
   "metadata": {},
   "outputs": [
    {
     "name": "stdout",
     "output_type": "stream",
     "text": [
      "14\n",
      "3235_1_functional.nii prediction:PD\n",
      "89\n",
      "4093_functional.nii prediction:control\n",
      "55\n",
      "3900_functional.nii prediction:control\n",
      "85\n",
      "4085_2_functional.nii prediction:control\n",
      "105\n",
      "4104_7_functional.nii prediction:control\n",
      "15\n",
      "3235_2_functional.nii prediction:PD\n",
      "50\n",
      "3662_1_functional.nii prediction:control\n",
      "53\n",
      "3665_functional.nii prediction:PD\n",
      "87\n",
      "4085_4_functional.nii prediction:control\n",
      "39\n",
      "3460_3_functional.nii prediction:control\n",
      "30\n",
      "3445_functional.nii prediction:control\n",
      "42\n",
      "3468_2_functional.nii prediction:control\n",
      "111\n",
      "4105_4_functional.nii prediction:control\n",
      "12\n",
      "3230_functional.nii prediction:control\n",
      "90\n",
      "4094_functional.nii prediction:PD\n",
      "23\n",
      "3423_functional.nii prediction:PD\n",
      "57\n",
      "3901_2_functional.nii prediction:control\n",
      "43\n",
      "3468_3_functional.nii prediction:control\n",
      "59\n",
      "3901_4_functional.nii prediction:control\n",
      "113\n",
      "4106_functional.nii prediction:PD\n",
      "109\n",
      "4105_2_functional.nii prediction:control\n",
      "106\n",
      "4104_8_functional.nii prediction:control\n",
      "95\n",
      "4100_3_functional.nii prediction:control\n",
      "110\n",
      "4105_3_functional.nii prediction:control\n",
      "60\n",
      "3905_functional.nii prediction:PD\n"
     ]
    }
   ],
   "source": [
    "for i in range(25):\n",
    "    print(indices_test[i] )\n",
    "    print(data.filename[indices_test[i]]+' prediction:'+y_pred[i])\n"
   ]
  },
  {
   "cell_type": "markdown",
   "metadata": {},
   "source": [
    "#### Printing results"
   ]
  },
  {
   "cell_type": "code",
   "execution_count": 37,
   "metadata": {},
   "outputs": [
    {
     "name": "stdout",
     "output_type": "stream",
     "text": [
      "[[ 5  4]\n",
      " [ 2 14]]\n",
      "              precision    recall  f1-score   support\n",
      "\n",
      "          PD       0.71      0.56      0.63         9\n",
      "     control       0.78      0.88      0.82        16\n",
      "\n",
      "    accuracy                           0.76        25\n",
      "   macro avg       0.75      0.72      0.72        25\n",
      "weighted avg       0.75      0.76      0.75        25\n",
      "\n",
      "[0.76]\n"
     ]
    }
   ],
   "source": [
    "scores1=[]\n",
    "scores1.append(a.score(x_test,y_test))\n",
    "print(confusion_matrix(y_test, y_pred))\n",
    "print(classification_report(y_test, y_pred))\n",
    "print(scores1)"
   ]
  }
 ],
 "metadata": {
  "kernelspec": {
   "display_name": "Python 3",
   "language": "python",
   "name": "python3"
  },
  "language_info": {
   "codemirror_mode": {
    "name": "ipython",
    "version": 3
   },
   "file_extension": ".py",
   "mimetype": "text/x-python",
   "name": "python",
   "nbconvert_exporter": "python",
   "pygments_lexer": "ipython3",
   "version": "3.7.4"
  }
 },
 "nbformat": 4,
 "nbformat_minor": 4
}
