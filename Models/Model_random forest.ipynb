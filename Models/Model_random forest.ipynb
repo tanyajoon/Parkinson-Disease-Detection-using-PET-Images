{
 "cells": [
  {
   "cell_type": "markdown",
   "metadata": {},
   "source": [
    "#### Importing Dependencies"
   ]
  },
  {
   "cell_type": "code",
   "execution_count": 1,
   "metadata": {},
   "outputs": [
    {
     "name": "stderr",
     "output_type": "stream",
     "text": [
      "C:\\Users\\Tanya Joon\\AppData\\Local\\Continuum\\anaconda3\\lib\\site-packages\\sklearn\\externals\\joblib\\__init__.py:15: DeprecationWarning: sklearn.externals.joblib is deprecated in 0.21 and will be removed in 0.23. Please import this functionality directly from joblib, which can be installed with: pip install joblib. If this warning is raised when loading pickled models, you may need to re-serialize those models with scikit-learn 0.21+.\n",
      "  warnings.warn(msg, category=DeprecationWarning)\n",
      "Using TensorFlow backend.\n"
     ]
    }
   ],
   "source": [
    "import pandas as pd\n",
    "from sklearn.model_selection import train_test_split\n",
    "import os\n",
    "import numpy as np\n",
    "from shutil import copyfile\n",
    "import matplotlib.pyplot as plt\n",
    "import glob\n",
    "import sklearn\n",
    "from sklearn.svm import SVC\n",
    "from sklearn.metrics import classification_report, confusion_matrix, accuracy_score\n",
    "from sklearn.model_selection import train_test_split\n",
    "from sklearn.model_selection import KFold, RepeatedKFold\n",
    "from sklearn.preprocessing import StandardScaler\n",
    "from sklearn.ensemble import RandomForestRegressor"
   ]
  },
  {
   "cell_type": "markdown",
   "metadata": {},
   "source": [
    "#### Reading the Preprocessed CSV file where 1=PD, 0=Control"
   ]
  },
  {
   "cell_type": "code",
   "execution_count": 2,
   "metadata": {},
   "outputs": [
    {
     "data": {
      "text/html": [
       "<div>\n",
       "<style scoped>\n",
       "    .dataframe tbody tr th:only-of-type {\n",
       "        vertical-align: middle;\n",
       "    }\n",
       "\n",
       "    .dataframe tbody tr th {\n",
       "        vertical-align: top;\n",
       "    }\n",
       "\n",
       "    .dataframe thead th {\n",
       "        text-align: right;\n",
       "    }\n",
       "</style>\n",
       "<table border=\"1\" class=\"dataframe\">\n",
       "  <thead>\n",
       "    <tr style=\"text-align: right;\">\n",
       "      <th></th>\n",
       "      <th>filename</th>\n",
       "      <th>target</th>\n",
       "    </tr>\n",
       "  </thead>\n",
       "  <tbody>\n",
       "    <tr>\n",
       "      <td>0</td>\n",
       "      <td>3123_functional.nii</td>\n",
       "      <td>1</td>\n",
       "    </tr>\n",
       "    <tr>\n",
       "      <td>1</td>\n",
       "      <td>3124_functional.nii</td>\n",
       "      <td>1</td>\n",
       "    </tr>\n",
       "    <tr>\n",
       "      <td>2</td>\n",
       "      <td>3125_functional.nii</td>\n",
       "      <td>1</td>\n",
       "    </tr>\n",
       "    <tr>\n",
       "      <td>3</td>\n",
       "      <td>3132_functional.nii</td>\n",
       "      <td>1</td>\n",
       "    </tr>\n",
       "    <tr>\n",
       "      <td>4</td>\n",
       "      <td>3201_1_functional.nii</td>\n",
       "      <td>0</td>\n",
       "    </tr>\n",
       "    <tr>\n",
       "      <td>...</td>\n",
       "      <td>...</td>\n",
       "      <td>...</td>\n",
       "    </tr>\n",
       "    <tr>\n",
       "      <td>119</td>\n",
       "      <td>4116_3_functional.nii</td>\n",
       "      <td>0</td>\n",
       "    </tr>\n",
       "    <tr>\n",
       "      <td>120</td>\n",
       "      <td>4116_4_functional.nii</td>\n",
       "      <td>0</td>\n",
       "    </tr>\n",
       "    <tr>\n",
       "      <td>121</td>\n",
       "      <td>4116_5_functional.nii</td>\n",
       "      <td>0</td>\n",
       "    </tr>\n",
       "    <tr>\n",
       "      <td>122</td>\n",
       "      <td>4117_functional.nii</td>\n",
       "      <td>1</td>\n",
       "    </tr>\n",
       "    <tr>\n",
       "      <td>123</td>\n",
       "      <td>4135_functional.nii</td>\n",
       "      <td>1</td>\n",
       "    </tr>\n",
       "  </tbody>\n",
       "</table>\n",
       "<p>124 rows × 2 columns</p>\n",
       "</div>"
      ],
      "text/plain": [
       "                  filename  target\n",
       "0      3123_functional.nii       1\n",
       "1      3124_functional.nii       1\n",
       "2      3125_functional.nii       1\n",
       "3      3132_functional.nii       1\n",
       "4    3201_1_functional.nii       0\n",
       "..                     ...     ...\n",
       "119  4116_3_functional.nii       0\n",
       "120  4116_4_functional.nii       0\n",
       "121  4116_5_functional.nii       0\n",
       "122    4117_functional.nii       1\n",
       "123    4135_functional.nii       1\n",
       "\n",
       "[124 rows x 2 columns]"
      ]
     },
     "execution_count": 2,
     "metadata": {},
     "output_type": "execute_result"
    }
   ],
   "source": [
    "data=pd.read_csv('Datacnn.csv')\n",
    "data"
   ]
  },
  {
   "cell_type": "markdown",
   "metadata": {},
   "source": [
    "#### importing data"
   ]
  },
  {
   "cell_type": "code",
   "execution_count": 5,
   "metadata": {},
   "outputs": [
    {
     "data": {
      "text/plain": [
       "124"
      ]
     },
     "execution_count": 5,
     "metadata": {},
     "output_type": "execute_result"
    }
   ],
   "source": [
    "ff = glob.glob('all_data/*')\n",
    "len(ff)"
   ]
  },
  {
   "cell_type": "markdown",
   "metadata": {},
   "source": [
    "#### Initializing an array to store the images"
   ]
  },
  {
   "cell_type": "code",
   "execution_count": 6,
   "metadata": {},
   "outputs": [
    {
     "name": "stdout",
     "output_type": "stream",
     "text": [
      "[]\n"
     ]
    }
   ],
   "source": [
    "images = []\n",
    "print(images)"
   ]
  },
  {
   "cell_type": "markdown",
   "metadata": {},
   "source": [
    "#### Loading images\n",
    "#### Shape Correction (taking middle 30 slides for each scan)\n",
    "#### appending the images into array"
   ]
  },
  {
   "cell_type": "code",
   "execution_count": 7,
   "metadata": {},
   "outputs": [
    {
     "name": "stdout",
     "output_type": "stream",
     "text": [
      "all_data\\3123_functional.nii\n",
      "all_data\\3124_functional.nii\n",
      "all_data\\3125_functional.nii\n",
      "all_data\\3132_functional.nii\n",
      "all_data\\3201_1_functional.nii\n",
      "all_data\\3201_2_functional.nii\n",
      "all_data\\3201_3_functional.nii\n",
      "all_data\\3201_4_functional.nii\n",
      "all_data\\3220_functional.nii\n",
      "all_data\\3223_functional.nii\n",
      "all_data\\3225_functional.nii\n",
      "all_data\\3228_functional.nii\n",
      "all_data\\3230_functional.nii\n",
      "all_data\\3234_functional.nii\n",
      "all_data\\3235_1_functional.nii\n",
      "all_data\\3235_2_functional.nii\n",
      "all_data\\3237_1_functional.nii\n",
      "all_data\\3237_2_functional.nii\n",
      "all_data\\3237_3_functional.nii\n",
      "all_data\\3237_4_functional.nii\n",
      "all_data\\3409_functional.nii\n",
      "all_data\\3418_functional.nii\n",
      "all_data\\3422_functional.nii\n",
      "all_data\\3423_functional.nii\n",
      "all_data\\3431_functional.nii\n",
      "all_data\\3433_functional.nii\n",
      "all_data\\3435_functional.nii\n",
      "all_data\\3436_functional.nii\n",
      "all_data\\3443_functional.nii\n",
      "all_data\\3444_functional.nii\n",
      "all_data\\3445_functional.nii\n",
      "all_data\\3448_functional.nii\n",
      "all_data\\3453_1_functional.nii\n",
      "all_data\\3453_2_functional.nii\n",
      "all_data\\3453_3_functional.nii\n",
      "all_data\\3453_4_functional.nii\n",
      "all_data\\3459_functional.nii\n",
      "all_data\\3460_1_functional.nii\n",
      "all_data\\3460_2_functional.nii\n",
      "all_data\\3460_3_functional.nii\n",
      "all_data\\3460_4_functional.nii\n",
      "all_data\\3468_1_functional.nii\n",
      "all_data\\3468_2_functional.nii\n",
      "all_data\\3468_3_functional.nii\n",
      "all_data\\3468_4_functional.nii\n",
      "all_data\\3551_1_functional.nii\n",
      "all_data\\3551_2_functional.nii\n",
      "all_data\\3551_3_functional.nii\n",
      "all_data\\3551_4_functional.nii\n",
      "all_data\\3661_functional.nii\n",
      "all_data\\3662_1_functional.nii\n",
      "all_data\\3662_2_functional.nii\n",
      "all_data\\3664_functional.nii\n",
      "all_data\\3665_functional.nii\n",
      "all_data\\3666_functional.nii\n",
      "all_data\\3900_functional.nii\n",
      "all_data\\3901_1_functional.nii\n",
      "all_data\\3901_2_functional.nii\n",
      "all_data\\3901_3_functional.nii\n",
      "all_data\\3901_4_functional.nii\n",
      "all_data\\3905_functional.nii\n",
      "all_data\\3908_1_functional.nii\n",
      "all_data\\3908_2_functional.nii\n",
      "all_data\\3908_3_functional.nii\n",
      "all_data\\3908_4_functional.nii\n",
      "all_data\\3908_5_functional.nii\n",
      "all_data\\3908_6_functional.nii\n",
      "all_data\\3908_7_functional.nii\n",
      "all_data\\3908_8_functional.nii\n",
      "all_data\\3910_functional.nii\n",
      "all_data\\3911_functional.nii\n",
      "all_data\\3914_functional.nii\n",
      "all_data\\3916_functional.nii\n",
      "all_data\\3917_1_functional.nii\n",
      "all_data\\3917_2_functional.nii\n",
      "all_data\\3917_3_functional.nii\n",
      "all_data\\3917_4_functional.nii\n",
      "all_data\\4051_functional.nii\n",
      "all_data\\4055_functional.nii\n",
      "all_data\\4057_functional.nii\n",
      "all_data\\4058_functional.nii\n",
      "all_data\\4081_functional.nii\n",
      "all_data\\4082_functional.nii\n",
      "all_data\\4083_functional.nii\n",
      "all_data\\4085_1_functional.nii\n",
      "all_data\\4085_2_functional.nii\n",
      "all_data\\4085_3_functional.nii\n",
      "all_data\\4085_4_functional.nii\n",
      "all_data\\4091_functional.nii\n",
      "all_data\\4093_functional.nii\n",
      "all_data\\4094_functional.nii\n",
      "all_data\\4096_functional.nii\n",
      "all_data\\4098_functional.nii\n",
      "all_data\\4100_1_functional.nii\n",
      "all_data\\4100_2_functional.nii\n",
      "all_data\\4100_3_functional.nii\n",
      "all_data\\4100_4_functional.nii\n",
      "all_data\\4100_5_functional.nii\n",
      "all_data\\4102_functional.nii\n",
      "all_data\\4104_1_functional.nii\n",
      "all_data\\4104_2_functional.nii\n",
      "all_data\\4104_3_functional.nii\n",
      "all_data\\4104_4_functional.nii\n",
      "all_data\\4104_5_functional.nii\n",
      "all_data\\4104_6_functional.nii\n",
      "all_data\\4104_7_functional.nii\n",
      "all_data\\4104_8_functional.nii\n",
      "all_data\\4104_9_functional.nii\n",
      "all_data\\4105_1_functional.nii\n",
      "all_data\\4105_2_functional.nii\n",
      "all_data\\4105_3_functional.nii\n",
      "all_data\\4105_4_functional.nii\n",
      "all_data\\4105_5_functional.nii\n",
      "all_data\\4106_functional.nii\n",
      "all_data\\4108_functional.nii\n",
      "all_data\\4111_functional.nii\n",
      "all_data\\4113_functional.nii\n",
      "all_data\\4116_1_functional.nii\n",
      "all_data\\4116_2_functional.nii\n",
      "all_data\\4116_3_functional.nii\n",
      "all_data\\4116_4_functional.nii\n",
      "all_data\\4116_5_functional.nii\n",
      "all_data\\4117_functional.nii\n",
      "all_data\\4135_functional.nii\n"
     ]
    }
   ],
   "source": [
    "for f in range(len(ff)):\n",
    "    a = nib.load(ff[f])\n",
    "    print(ff[f])\n",
    "    l1,l2,l3=a.shape\n",
    "    #print(l1,l2,l3)\n",
    "    a = a.get_data()\n",
    "    #print(a)\n",
    "    \n",
    "    z1= int(l3/2) -15\n",
    "    z2= int(l3/2) +15\n",
    "    a = a[:,:,z1:z2]\n",
    "    #print(a)\n",
    "    #for i in range (len(ff)):\n",
    "    images.append((a[:,:,:]))\n",
    "    #print (a.shape)\n",
    "#print(images)"
   ]
  },
  {
   "cell_type": "markdown",
   "metadata": {},
   "source": [
    "#### Checking Dimension of Image Stack"
   ]
  },
  {
   "cell_type": "code",
   "execution_count": 8,
   "metadata": {},
   "outputs": [
    {
     "data": {
      "text/plain": [
       "(124, 128, 128, 30)"
      ]
     },
     "execution_count": 8,
     "metadata": {},
     "output_type": "execute_result"
    }
   ],
   "source": [
    "imagess=np.asarray(images)\n",
    "imagess.shape"
   ]
  },
  {
   "cell_type": "markdown",
   "metadata": {},
   "source": [
    "#### Min Max Normalization"
   ]
  },
  {
   "cell_type": "code",
   "execution_count": 9,
   "metadata": {},
   "outputs": [],
   "source": [
    "m = np.max(imagess)\n",
    "mi = np.min(imagess)"
   ]
  },
  {
   "cell_type": "code",
   "execution_count": 10,
   "metadata": {},
   "outputs": [
    {
     "name": "stdout",
     "output_type": "stream",
     "text": [
      "32767.0 -607.0\n"
     ]
    }
   ],
   "source": [
    "print(m, mi)"
   ]
  },
  {
   "cell_type": "code",
   "execution_count": 11,
   "metadata": {},
   "outputs": [],
   "source": [
    "images = (images - mi) / (m - mi)"
   ]
  },
  {
   "cell_type": "code",
   "execution_count": 12,
   "metadata": {},
   "outputs": [
    {
     "data": {
      "text/plain": [
       "(0.0, 1.0)"
      ]
     },
     "execution_count": 12,
     "metadata": {},
     "output_type": "execute_result"
    }
   ],
   "source": [
    "np.min(images), np.max(images)"
   ]
  },
  {
   "cell_type": "code",
   "execution_count": 13,
   "metadata": {},
   "outputs": [
    {
     "data": {
      "text/plain": [
       "array([[[[ 0.,  0.,  0., ...,  0.,  0.,  0.],\n",
       "         [ 0.,  0.,  0., ...,  0.,  0.,  0.],\n",
       "         [ 0.,  0.,  0., ...,  0.,  0.,  0.],\n",
       "         ...,\n",
       "         [ 0.,  0.,  0., ...,  0.,  0.,  0.],\n",
       "         [ 0.,  0.,  0., ...,  0.,  0.,  0.],\n",
       "         [ 0.,  0.,  0., ...,  0.,  0.,  0.]],\n",
       "\n",
       "        [[ 0.,  0.,  0., ...,  0.,  0.,  0.],\n",
       "         [ 0.,  0.,  0., ...,  0.,  0.,  0.],\n",
       "         [ 0.,  0.,  0., ...,  0.,  0.,  0.],\n",
       "         ...,\n",
       "         [ 0.,  0.,  0., ...,  0.,  0.,  0.],\n",
       "         [ 0.,  0.,  0., ...,  0.,  0.,  0.],\n",
       "         [ 0.,  0.,  0., ...,  0.,  0.,  0.]],\n",
       "\n",
       "        [[ 0.,  0.,  0., ...,  0.,  0.,  0.],\n",
       "         [ 0.,  0.,  0., ...,  0.,  0.,  0.],\n",
       "         [ 0.,  0.,  0., ...,  0.,  0.,  0.],\n",
       "         ...,\n",
       "         [ 0.,  0.,  0., ...,  0.,  0.,  0.],\n",
       "         [ 0.,  0.,  0., ...,  0.,  0.,  0.],\n",
       "         [ 0.,  0.,  0., ...,  0.,  0.,  0.]],\n",
       "\n",
       "        ...,\n",
       "\n",
       "        [[ 0.,  0.,  0., ...,  0.,  0.,  0.],\n",
       "         [ 0.,  0.,  0., ...,  0.,  0.,  0.],\n",
       "         [ 0.,  0.,  0., ...,  0.,  0.,  0.],\n",
       "         ...,\n",
       "         [ 0.,  0.,  0., ...,  0.,  0.,  0.],\n",
       "         [ 0.,  0.,  0., ...,  0.,  0.,  0.],\n",
       "         [ 0.,  0.,  0., ...,  0.,  0.,  0.]],\n",
       "\n",
       "        [[ 0.,  0.,  0., ...,  0.,  0.,  0.],\n",
       "         [ 0.,  0.,  0., ...,  0.,  0.,  0.],\n",
       "         [ 0.,  0.,  0., ...,  0.,  0.,  0.],\n",
       "         ...,\n",
       "         [ 0.,  0.,  0., ...,  0.,  0.,  0.],\n",
       "         [ 0.,  0.,  0., ...,  0.,  0.,  0.],\n",
       "         [ 0.,  0.,  0., ...,  0.,  0.,  0.]],\n",
       "\n",
       "        [[ 0.,  0.,  0., ...,  0.,  0.,  0.],\n",
       "         [ 0.,  0.,  0., ...,  0.,  0.,  0.],\n",
       "         [ 0.,  0.,  0., ...,  0.,  0.,  0.],\n",
       "         ...,\n",
       "         [ 0.,  0.,  0., ...,  0.,  0.,  0.],\n",
       "         [ 0.,  0.,  0., ...,  0.,  0.,  0.],\n",
       "         [ 0.,  0.,  0., ...,  0.,  0.,  0.]]],\n",
       "\n",
       "\n",
       "       [[[ 0.,  0.,  0., ...,  0.,  0.,  0.],\n",
       "         [ 0.,  0.,  0., ...,  0.,  0.,  0.],\n",
       "         [ 0.,  0.,  0., ...,  0.,  0.,  0.],\n",
       "         ...,\n",
       "         [ 0.,  0.,  0., ...,  0.,  0.,  0.],\n",
       "         [ 0.,  0.,  0., ...,  0.,  0.,  0.],\n",
       "         [ 0.,  0.,  0., ...,  0.,  0.,  0.]],\n",
       "\n",
       "        [[ 0.,  0.,  0., ...,  0.,  0.,  0.],\n",
       "         [ 0.,  0.,  0., ...,  0.,  0.,  0.],\n",
       "         [ 0.,  0.,  0., ...,  0.,  0.,  0.],\n",
       "         ...,\n",
       "         [ 0.,  0.,  0., ...,  0.,  0.,  0.],\n",
       "         [ 0.,  0.,  0., ...,  0.,  0.,  0.],\n",
       "         [ 0.,  0.,  0., ...,  0.,  0.,  0.]],\n",
       "\n",
       "        [[ 0.,  0.,  0., ...,  0.,  0.,  0.],\n",
       "         [ 0.,  0.,  0., ...,  0.,  0.,  0.],\n",
       "         [ 0.,  0.,  0., ...,  0.,  0.,  0.],\n",
       "         ...,\n",
       "         [ 0.,  0.,  0., ...,  0.,  0.,  0.],\n",
       "         [ 0.,  0.,  0., ...,  0.,  0.,  0.],\n",
       "         [ 0.,  0.,  0., ...,  0.,  0.,  0.]],\n",
       "\n",
       "        ...,\n",
       "\n",
       "        [[ 0.,  0.,  0., ...,  0.,  0.,  0.],\n",
       "         [ 0.,  0.,  0., ...,  0.,  0.,  0.],\n",
       "         [ 0.,  0.,  0., ...,  0.,  0.,  0.],\n",
       "         ...,\n",
       "         [ 0.,  0.,  0., ...,  0.,  0.,  0.],\n",
       "         [ 0.,  0.,  0., ...,  0.,  0.,  0.],\n",
       "         [ 0.,  0.,  0., ...,  0.,  0.,  0.]],\n",
       "\n",
       "        [[ 0.,  0.,  0., ...,  0.,  0.,  0.],\n",
       "         [ 0.,  0.,  0., ...,  0.,  0.,  0.],\n",
       "         [ 0.,  0.,  0., ...,  0.,  0.,  0.],\n",
       "         ...,\n",
       "         [ 0.,  0.,  0., ...,  0.,  0.,  0.],\n",
       "         [ 0.,  0.,  0., ...,  0.,  0.,  0.],\n",
       "         [ 0.,  0.,  0., ...,  0.,  0.,  0.]],\n",
       "\n",
       "        [[ 0.,  0.,  0., ...,  0.,  0.,  0.],\n",
       "         [ 0.,  0.,  0., ...,  0.,  0.,  0.],\n",
       "         [ 0.,  0.,  0., ...,  0.,  0.,  0.],\n",
       "         ...,\n",
       "         [ 0.,  0.,  0., ...,  0.,  0.,  0.],\n",
       "         [ 0.,  0.,  0., ...,  0.,  0.,  0.],\n",
       "         [ 0.,  0.,  0., ...,  0.,  0.,  0.]]],\n",
       "\n",
       "\n",
       "       [[[ 0.,  0.,  0., ...,  0.,  0.,  0.],\n",
       "         [ 0.,  0.,  0., ...,  0.,  0.,  0.],\n",
       "         [ 0.,  0.,  0., ...,  0.,  0.,  0.],\n",
       "         ...,\n",
       "         [ 0.,  0.,  0., ...,  0.,  0.,  0.],\n",
       "         [ 0.,  0.,  0., ...,  0.,  0.,  0.],\n",
       "         [ 0.,  0.,  0., ...,  0.,  0.,  0.]],\n",
       "\n",
       "        [[ 0.,  0.,  0., ...,  0.,  0.,  0.],\n",
       "         [ 0.,  0.,  0., ...,  0.,  0.,  0.],\n",
       "         [ 0.,  0.,  0., ...,  0.,  0.,  0.],\n",
       "         ...,\n",
       "         [ 0.,  0.,  0., ...,  0.,  0.,  0.],\n",
       "         [ 0.,  0.,  0., ...,  0.,  0.,  0.],\n",
       "         [ 0.,  0.,  0., ...,  0.,  0.,  0.]],\n",
       "\n",
       "        [[ 0.,  0.,  0., ...,  0.,  0.,  0.],\n",
       "         [ 0.,  0.,  0., ...,  0.,  0.,  0.],\n",
       "         [ 0.,  0.,  0., ...,  0.,  0.,  0.],\n",
       "         ...,\n",
       "         [ 0.,  0.,  0., ...,  0.,  0.,  0.],\n",
       "         [ 0.,  0.,  0., ...,  0.,  0.,  0.],\n",
       "         [ 0.,  0.,  0., ...,  0.,  0.,  0.]],\n",
       "\n",
       "        ...,\n",
       "\n",
       "        [[ 0.,  0.,  0., ...,  0.,  0.,  0.],\n",
       "         [ 0.,  0.,  0., ...,  0.,  0.,  0.],\n",
       "         [ 0.,  0.,  0., ...,  0.,  0.,  0.],\n",
       "         ...,\n",
       "         [ 0.,  0.,  0., ...,  0.,  0.,  0.],\n",
       "         [ 0.,  0.,  0., ...,  0.,  0.,  0.],\n",
       "         [ 0.,  0.,  0., ...,  0.,  0.,  0.]],\n",
       "\n",
       "        [[ 0.,  0.,  0., ...,  0.,  0.,  0.],\n",
       "         [ 0.,  0.,  0., ...,  0.,  0.,  0.],\n",
       "         [ 0.,  0.,  0., ...,  0.,  0.,  0.],\n",
       "         ...,\n",
       "         [ 0.,  0.,  0., ...,  0.,  0.,  0.],\n",
       "         [ 0.,  0.,  0., ...,  0.,  0.,  0.],\n",
       "         [ 0.,  0.,  0., ...,  0.,  0.,  0.]],\n",
       "\n",
       "        [[ 0.,  0.,  0., ...,  0.,  0.,  0.],\n",
       "         [ 0.,  0.,  0., ...,  0.,  0.,  0.],\n",
       "         [ 0.,  0.,  0., ...,  0.,  0.,  0.],\n",
       "         ...,\n",
       "         [ 0.,  0.,  0., ...,  0.,  0.,  0.],\n",
       "         [ 0.,  0.,  0., ...,  0.,  0.,  0.],\n",
       "         [ 0.,  0.,  0., ...,  0.,  0.,  0.]]],\n",
       "\n",
       "\n",
       "       ...,\n",
       "\n",
       "\n",
       "       [[[ 0.,  0.,  0., ...,  0.,  0.,  0.],\n",
       "         [ 0.,  0.,  0., ...,  0.,  0.,  0.],\n",
       "         [ 0.,  0.,  0., ...,  0.,  0., -0.],\n",
       "         ...,\n",
       "         [ 0.,  0.,  0., ...,  0.,  0., -0.],\n",
       "         [ 0.,  0., -0., ...,  0.,  0., -0.],\n",
       "         [ 0.,  0.,  0., ...,  0.,  0., -0.]],\n",
       "\n",
       "        [[ 0.,  0.,  0., ...,  0.,  0.,  0.],\n",
       "         [ 0.,  0.,  0., ...,  0.,  0.,  0.],\n",
       "         [ 0.,  0.,  0., ...,  0.,  0.,  0.],\n",
       "         ...,\n",
       "         [ 0.,  0.,  0., ...,  0.,  0.,  0.],\n",
       "         [ 0.,  0., -0., ...,  0.,  0.,  0.],\n",
       "         [ 0.,  0.,  0., ...,  0.,  0.,  0.]],\n",
       "\n",
       "        [[ 0.,  0.,  0., ...,  0.,  0., -0.],\n",
       "         [ 0.,  0.,  0., ..., -0.,  0.,  0.],\n",
       "         [ 0.,  0.,  0., ..., -0., -0.,  0.],\n",
       "         ...,\n",
       "         [ 0.,  0.,  0., ...,  0.,  0.,  0.],\n",
       "         [ 0.,  0., -0., ...,  0.,  0.,  0.],\n",
       "         [ 0.,  0.,  0., ...,  0.,  0.,  0.]],\n",
       "\n",
       "        ...,\n",
       "\n",
       "        [[ 0.,  0.,  0., ...,  0.,  0.,  0.],\n",
       "         [ 0.,  0.,  0., ...,  0.,  0.,  0.],\n",
       "         [ 0.,  0.,  0., ...,  0.,  0.,  0.],\n",
       "         ...,\n",
       "         [ 0.,  0.,  0., ...,  0.,  0.,  0.],\n",
       "         [ 0.,  0.,  0., ...,  0.,  0.,  0.],\n",
       "         [ 0.,  0.,  0., ...,  0.,  0.,  0.]],\n",
       "\n",
       "        [[-0.,  0.,  0., ...,  0., -0., -0.],\n",
       "         [-0., -0.,  0., ...,  0.,  0.,  0.],\n",
       "         [-0., -0.,  0., ...,  0.,  0.,  0.],\n",
       "         ...,\n",
       "         [ 0.,  0.,  0., ...,  0.,  0.,  0.],\n",
       "         [ 0.,  0.,  0., ...,  0.,  0.,  0.],\n",
       "         [ 0.,  0.,  0., ...,  0.,  0.,  0.]],\n",
       "\n",
       "        [[ 0.,  0.,  0., ...,  0., -0., -0.],\n",
       "         [ 0.,  0.,  0., ...,  0.,  0.,  0.],\n",
       "         [ 0.,  0.,  0., ...,  0.,  0.,  0.],\n",
       "         ...,\n",
       "         [ 0.,  0.,  0., ...,  0.,  0.,  0.],\n",
       "         [ 0.,  0.,  0., ...,  0.,  0.,  0.],\n",
       "         [ 0.,  0.,  0., ...,  0.,  0.,  0.]]],\n",
       "\n",
       "\n",
       "       [[[ 0.,  0.,  0., ...,  0.,  0.,  0.],\n",
       "         [ 0.,  0.,  0., ...,  0.,  0.,  0.],\n",
       "         [ 0.,  0.,  0., ...,  0.,  0.,  0.],\n",
       "         ...,\n",
       "         [ 0.,  0.,  0., ...,  0.,  0.,  0.],\n",
       "         [ 0.,  0.,  0., ...,  0.,  0.,  0.],\n",
       "         [ 0.,  0.,  0., ...,  0.,  0.,  0.]],\n",
       "\n",
       "        [[ 0.,  0.,  0., ...,  0.,  0.,  0.],\n",
       "         [ 0.,  0.,  0., ...,  0.,  0.,  0.],\n",
       "         [ 0.,  0.,  0., ...,  0.,  0.,  0.],\n",
       "         ...,\n",
       "         [ 0.,  0.,  0., ...,  0.,  0.,  0.],\n",
       "         [ 0.,  0.,  0., ...,  0.,  0.,  0.],\n",
       "         [ 0.,  0.,  0., ...,  0.,  0.,  0.]],\n",
       "\n",
       "        [[ 0.,  0.,  0., ...,  0.,  0.,  0.],\n",
       "         [ 0.,  0.,  0., ...,  0.,  0.,  0.],\n",
       "         [ 0.,  0.,  0., ...,  0.,  0.,  0.],\n",
       "         ...,\n",
       "         [ 0.,  0.,  0., ...,  0.,  0.,  0.],\n",
       "         [ 0.,  0.,  0., ...,  0.,  0.,  0.],\n",
       "         [ 0.,  0.,  0., ...,  0.,  0.,  0.]],\n",
       "\n",
       "        ...,\n",
       "\n",
       "        [[ 0.,  0.,  0., ...,  0.,  0.,  0.],\n",
       "         [ 0.,  0.,  0., ...,  0.,  0.,  0.],\n",
       "         [ 0.,  0.,  0., ...,  0.,  0.,  0.],\n",
       "         ...,\n",
       "         [ 0.,  0.,  0., ...,  0.,  0.,  0.],\n",
       "         [ 0.,  0.,  0., ...,  0.,  0.,  0.],\n",
       "         [ 0.,  0.,  0., ...,  0.,  0.,  0.]],\n",
       "\n",
       "        [[ 0.,  0.,  0., ...,  0.,  0.,  0.],\n",
       "         [ 0.,  0.,  0., ...,  0.,  0.,  0.],\n",
       "         [ 0.,  0.,  0., ...,  0.,  0.,  0.],\n",
       "         ...,\n",
       "         [ 0.,  0.,  0., ...,  0.,  0.,  0.],\n",
       "         [ 0.,  0.,  0., ...,  0.,  0.,  0.],\n",
       "         [ 0.,  0.,  0., ...,  0.,  0.,  0.]],\n",
       "\n",
       "        [[ 0.,  0.,  0., ...,  0.,  0.,  0.],\n",
       "         [ 0.,  0.,  0., ...,  0.,  0.,  0.],\n",
       "         [ 0.,  0.,  0., ...,  0.,  0.,  0.],\n",
       "         ...,\n",
       "         [ 0.,  0.,  0., ...,  0.,  0.,  0.],\n",
       "         [ 0.,  0.,  0., ...,  0.,  0.,  0.],\n",
       "         [ 0.,  0.,  0., ...,  0.,  0.,  0.]]],\n",
       "\n",
       "\n",
       "       [[[ 0.,  0.,  0., ...,  0.,  0.,  0.],\n",
       "         [ 0.,  0.,  0., ...,  0.,  0.,  0.],\n",
       "         [ 0.,  0.,  0., ...,  0.,  0.,  0.],\n",
       "         ...,\n",
       "         [ 0.,  0.,  0., ...,  0.,  0.,  0.],\n",
       "         [ 0.,  0.,  0., ...,  0.,  0.,  0.],\n",
       "         [ 0.,  0.,  0., ...,  0.,  0.,  0.]],\n",
       "\n",
       "        [[ 0.,  0.,  0., ...,  0.,  0.,  0.],\n",
       "         [ 0.,  0.,  0., ...,  0.,  0.,  0.],\n",
       "         [ 0.,  0.,  0., ...,  0.,  0.,  0.],\n",
       "         ...,\n",
       "         [ 0.,  0.,  0., ...,  0.,  0.,  0.],\n",
       "         [ 0.,  0.,  0., ...,  0.,  0.,  0.],\n",
       "         [ 0.,  0.,  0., ...,  0.,  0.,  0.]],\n",
       "\n",
       "        [[ 0.,  0.,  0., ...,  0.,  0.,  0.],\n",
       "         [ 0.,  0.,  0., ...,  0.,  0.,  0.],\n",
       "         [ 0.,  0.,  0., ...,  0.,  0.,  0.],\n",
       "         ...,\n",
       "         [ 0.,  0.,  0., ...,  0.,  0.,  0.],\n",
       "         [ 0.,  0.,  0., ...,  0.,  0.,  0.],\n",
       "         [ 0.,  0.,  0., ...,  0.,  0.,  0.]],\n",
       "\n",
       "        ...,\n",
       "\n",
       "        [[ 0.,  0.,  0., ...,  0.,  0.,  0.],\n",
       "         [ 0.,  0.,  0., ...,  0.,  0.,  0.],\n",
       "         [ 0.,  0.,  0., ...,  0.,  0.,  0.],\n",
       "         ...,\n",
       "         [ 0.,  0.,  0., ...,  0.,  0.,  0.],\n",
       "         [ 0.,  0.,  0., ...,  0.,  0.,  0.],\n",
       "         [ 0.,  0.,  0., ...,  0.,  0.,  0.]],\n",
       "\n",
       "        [[ 0.,  0.,  0., ...,  0.,  0.,  0.],\n",
       "         [ 0.,  0.,  0., ...,  0.,  0.,  0.],\n",
       "         [ 0.,  0.,  0., ...,  0.,  0.,  0.],\n",
       "         ...,\n",
       "         [ 0.,  0.,  0., ...,  0.,  0.,  0.],\n",
       "         [ 0.,  0.,  0., ...,  0.,  0.,  0.],\n",
       "         [ 0.,  0.,  0., ...,  0.,  0.,  0.]],\n",
       "\n",
       "        [[ 0.,  0.,  0., ...,  0.,  0.,  0.],\n",
       "         [ 0.,  0.,  0., ...,  0.,  0.,  0.],\n",
       "         [ 0.,  0.,  0., ...,  0.,  0.,  0.],\n",
       "         ...,\n",
       "         [ 0.,  0.,  0., ...,  0.,  0.,  0.],\n",
       "         [ 0.,  0.,  0., ...,  0.,  0.,  0.],\n",
       "         [ 0.,  0.,  0., ...,  0.,  0.,  0.]]]], dtype=float32)"
      ]
     },
     "execution_count": 13,
     "metadata": {},
     "output_type": "execute_result"
    }
   ],
   "source": [
    "imagess"
   ]
  },
  {
   "cell_type": "markdown",
   "metadata": {},
   "source": [
    "#### Reading Output Labels"
   ]
  },
  {
   "cell_type": "code",
   "execution_count": 14,
   "metadata": {},
   "outputs": [
    {
     "name": "stdout",
     "output_type": "stream",
     "text": [
      "0      1\n",
      "1      1\n",
      "2      1\n",
      "3      1\n",
      "4      0\n",
      "      ..\n",
      "119    0\n",
      "120    0\n",
      "121    0\n",
      "122    1\n",
      "123    1\n",
      "Name: target, Length: 124, dtype: int64\n"
     ]
    }
   ],
   "source": [
    "data=pd.read_csv('Datacnn.csv')\n",
    "y=data.target\n",
    "print(y)"
   ]
  },
  {
   "cell_type": "markdown",
   "metadata": {},
   "source": [
    "#### Changing The 4D image Stack to a 2D Stack to feed into Random Forest Classifier"
   ]
  },
  {
   "cell_type": "code",
   "execution_count": 15,
   "metadata": {},
   "outputs": [],
   "source": [
    "nsamples, nx, ny, nz = imagess.shape\n",
    "train_dataset = imagess.reshape((nsamples,nx*ny*nz))"
   ]
  },
  {
   "cell_type": "markdown",
   "metadata": {},
   "source": [
    "#### Training Random Forest Using K=5 fold "
   ]
  },
  {
   "cell_type": "code",
   "execution_count": 37,
   "metadata": {},
   "outputs": [
    {
     "name": "stdout",
     "output_type": "stream",
     "text": [
      "Train: [  0   2   4   5   6   7   8   9  10  13  14  17  18  19  20  21  22  23\n",
      "  25  26  27  28  30  32  34  35  37  38  39  40  41  43  44  45  46  47\n",
      "  48  50  51  52  53  55  56  57  58  59  60  61  62  63  64  65  67  68\n",
      "  70  71  72  73  74  76  77  81  83  84  85  86  87  88  90  91  92  93\n",
      "  94  95  96  97  98  99 100 101 102 103 104 105 106 107 109 110 111 112\n",
      " 113 115 116 117 118 119 120 122 123] Validation: [  1   3  11  12  15  16  24  29  31  33  36  42  49  54  66  69  75  78\n",
      "  79  80  82  89 108 114 121]\n",
      "prediction [0 1 1 0 0 0 1 1 1 0 0 0 0 1 0 1 0 1 0 1 0 1 0 1 1]\n",
      "actual     [1 1 1 1 0 0 1 1 1 0 1 0 1 1 0 1 0 1 1 1 1 1 0 1 0]\n",
      "accuracy  0.72 \n",
      "\n",
      "\n",
      "\n",
      "\n",
      "Train: [  0   1   2   3   4   6   7   8  10  11  12  14  15  16  19  20  21  22\n",
      "  23  24  25  26  28  29  30  31  33  34  35  36  37  38  39  40  42  43\n",
      "  44  46  48  49  50  52  53  54  55  56  57  58  59  63  64  65  66  68\n",
      "  69  70  71  72  73  74  75  76  77  78  79  80  81  82  83  84  85  86\n",
      "  87  88  89  90  91  92  95  96  97  99 101 104 105 106 107 108 109 110\n",
      " 112 113 114 115 116 120 121 122 123] Validation: [  5   9  13  17  18  27  32  41  45  47  51  60  61  62  67  93  94  98\n",
      " 100 102 103 111 117 118 119]\n",
      "prediction [0 0 0 0 0 1 0 0 0 0 0 1 0 0 0 0 0 1 1 0 0 0 0 0 0]\n",
      "actual     [0 1 1 0 0 1 0 0 0 0 0 1 0 0 0 0 0 1 0 0 0 0 0 0 0]\n",
      "accuracy  0.88 \n",
      "\n",
      "\n",
      "\n",
      "\n",
      "Train: [  0   1   2   3   4   5   7   8   9  11  12  13  14  15  16  17  18  19\n",
      "  20  23  24  26  27  28  29  30  31  32  33  35  36  38  40  41  42  45\n",
      "  46  47  48  49  51  52  53  54  56  58  60  61  62  64  66  67  68  69\n",
      "  70  71  73  74  75  76  78  79  80  81  82  83  85  86  87  89  90  93\n",
      "  94  95  96  97  98  99 100 102 103 104 106 107 108 109 110 111 112 113\n",
      " 114 115 117 118 119 120 121 122 123] Validation: [  6  10  21  22  25  34  37  39  43  44  50  55  57  59  63  65  72  77\n",
      "  84  88  91  92 101 105 116]\n",
      "prediction [0 1 1 1 0 0 0 0 0 0 0 0 0 0 0 0 1 0 0 1 1 1 0 0 1]\n",
      "actual     [0 1 1 1 1 0 0 0 0 0 0 1 0 0 0 0 1 1 0 1 1 1 0 0 1]\n",
      "accuracy  0.88 \n",
      "\n",
      "\n",
      "\n",
      "\n",
      "Train: [  1   3   5   6   7   9  10  11  12  13  15  16  17  18  19  20  21  22\n",
      "  24  25  27  28  29  30  31  32  33  34  35  36  37  39  40  41  42  43\n",
      "  44  45  46  47  49  50  51  53  54  55  56  57  59  60  61  62  63  64\n",
      "  65  66  67  69  70  71  72  75  77  78  79  80  82  83  84  86  87  88\n",
      "  89  91  92  93  94  98  99 100 101 102 103 104 105 107 108 109 110 111\n",
      " 114 115 116 117 118 119 121 122 123] Validation: [  0   2   4   8  14  23  26  38  48  52  58  68  73  74  76  81  85  90\n",
      "  95  96  97 106 112 113 120]\n",
      "prediction [1 1 0 0 0 0 1 0 0 1 0 0 0 0 0 0 0 1 0 0 0 0 0 1 0]\n",
      "actual     [1 1 0 1 0 1 1 0 0 1 0 0 0 0 0 1 0 1 0 0 0 0 0 1 0]\n",
      "accuracy  0.88 \n",
      "\n",
      "\n",
      "\n",
      "\n",
      "Train: [  0   1   2   3   4   5   6   8   9  10  11  12  13  14  15  16  17  18\n",
      "  21  22  23  24  25  26  27  29  31  32  33  34  36  37  38  39  41  42\n",
      "  43  44  45  47  48  49  50  51  52  54  55  57  58  59  60  61  62  63\n",
      "  65  66  67  68  69  72  73  74  75  76  77  78  79  80  81  82  84  85\n",
      "  88  89  90  91  92  93  94  95  96  97  98 100 101 102 103 105 106 108\n",
      " 111 112 113 114 116 117 118 119 120 121] Validation: [  7  19  20  28  30  35  40  46  53  56  64  70  71  83  86  87  99 104\n",
      " 107 109 110 115 122 123]\n",
      "prediction [0 0 1 1 1 0 0 0 1 0 0 0 0 1 0 0 0 0 0 0 0 1 0 0]\n",
      "actual     [0 0 1 1 1 0 0 0 1 0 0 1 1 1 0 0 0 0 0 0 0 1 1 1]\n",
      "accuracy  0.8333333333333334 \n",
      "\n",
      "\n",
      "\n",
      "\n"
     ]
    }
   ],
   "source": [
    "kf = KFold(n_splits=5, random_state=None, shuffle=True) \n",
    "\n",
    "for train_index, test_index in kf.split(train_dataset):\n",
    "    print(\"Train:\", train_index, \"Validation:\",test_index)\n",
    "    x_train, x_test = train_dataset[train_index], train_dataset[test_index] \n",
    "    y_train, y_test = y[train_index], y[test_index]\n",
    "    regressor = RandomForestRegressor(n_estimators=20, random_state=0)\n",
    "    y_train=keras.utils.to_categorical(y_train)\n",
    "    y_test=keras.utils.to_categorical(y_test)\n",
    "    regressor.fit(x_train, y_train)\n",
    "    y_pred = regressor.predict(x_test)\n",
    "    y_pred_classes=np.argmax(y_pred,axis=1)\n",
    "    y_true=np.argmax(y_test,axis=1)\n",
    "    print('prediction', y_pred_classes)\n",
    "    print('actual    ', y_true)\n",
    "    count=0\n",
    "    m=y_true.shape\n",
    "    m=m[0]\n",
    "    for i in range(m):\n",
    "        if y_pred_classes[i]==y_true[i]:\n",
    "            count=count+1\n",
    "    accuracy=count/m\n",
    "    print('accuracy ',accuracy,'\\n\\n\\n\\n')"
   ]
  },
  {
   "cell_type": "markdown",
   "metadata": {},
   "source": [
    "#### Training Without K Fold Cross Validation\n",
    "#### Training (80%), Testing (20%)"
   ]
  },
  {
   "cell_type": "code",
   "execution_count": 20,
   "metadata": {},
   "outputs": [],
   "source": [
    "indices = np.arange(124)\n",
    "x_train,x_test,y_train,y_test, indices_train,indices_test =train_test_split(train_dataset,y,indices,test_size=0.2, random_state=0)\n",
    "sc = StandardScaler()\n",
    "x_train = sc.fit_transform(x_train)\n",
    "x_test = sc.transform(x_test)"
   ]
  },
  {
   "cell_type": "code",
   "execution_count": 21,
   "metadata": {},
   "outputs": [],
   "source": [
    "regressor = RandomForestRegressor(n_estimators=20, random_state=0)\n",
    "y_train=keras.utils.to_categorical(y_train)\n",
    "y_test=keras.utils.to_categorical(y_test)\n",
    "regressor.fit(x_train, y_train)\n",
    "y_pred = regressor.predict(x_test)"
   ]
  },
  {
   "cell_type": "code",
   "execution_count": 36,
   "metadata": {},
   "outputs": [
    {
     "name": "stdout",
     "output_type": "stream",
     "text": [
      "prediction [0 0 1 0 1 0 0 0 0 0 0 0 0 1 1 0 0 0 0 0 0 1 1 1]\n",
      "actual     [1 1 1 1 1 1 0 1 1 0 0 0 0 0 0 1 1 0 0 0 0 1 1 0]\n",
      "24\n"
     ]
    }
   ],
   "source": [
    "y_pred_classes=np.argmax(y_pred,axis=1)\n",
    "y_true=np.argmax(y_test,axis=1)\n",
    "\n",
    "print('prediction', y_pred_classes)\n",
    "print('actual    ', y_true)\n",
    "m=y_true.shape\n",
    "m=m[0]\n",
    "# 24 testing Sample\n",
    "print(m)"
   ]
  },
  {
   "cell_type": "markdown",
   "metadata": {},
   "source": [
    "#### Printing testing Report"
   ]
  },
  {
   "cell_type": "code",
   "execution_count": 23,
   "metadata": {},
   "outputs": [
    {
     "name": "stdout",
     "output_type": "stream",
     "text": [
      "\n",
      "              precision    recall  f1-score   support\n",
      "\n",
      "     Control       0.82      0.93      0.87        15\n",
      "          PD       0.88      0.70      0.78        10\n",
      "\n",
      "    accuracy                           0.84        25\n",
      "   macro avg       0.85      0.82      0.83        25\n",
      "weighted avg       0.84      0.84      0.84        25\n",
      "\n"
     ]
    }
   ],
   "source": [
    "map_characters={0: 'Control', 1: 'PD'}\n",
    "\n",
    "print('\\n', sklearn.metrics.classification_report(np.where(y_test > 0)[1], np.argmax(y_pred, axis=1), target_names=list(map_characters.values())), sep='') "
   ]
  }
 ],
 "metadata": {
  "kernelspec": {
   "display_name": "Python 3",
   "language": "python",
   "name": "python3"
  },
  "language_info": {
   "codemirror_mode": {
    "name": "ipython",
    "version": 3
   },
   "file_extension": ".py",
   "mimetype": "text/x-python",
   "name": "python",
   "nbconvert_exporter": "python",
   "pygments_lexer": "ipython3",
   "version": "3.7.4"
  }
 },
 "nbformat": 4,
 "nbformat_minor": 2
}
