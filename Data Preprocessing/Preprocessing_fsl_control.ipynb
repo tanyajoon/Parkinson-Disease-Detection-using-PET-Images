{
 "cells": [
  {
   "cell_type": "markdown",
   "metadata": {},
   "source": [
    "#### Reorient to standard space"
   ]
  },
  {
   "cell_type": "code",
   "execution_count": 1,
   "metadata": {},
   "outputs": [
    {
     "name": "stderr",
     "output_type": "stream",
     "text": [
      "/Users/mdjamilurrahman/anaconda3/lib/python3.7/site-packages/sklearn/externals/joblib/__init__.py:15: DeprecationWarning: sklearn.externals.joblib is deprecated in 0.21 and will be removed in 0.23. Please import this functionality directly from joblib, which can be installed with: pip install joblib. If this warning is raised when loading pickled models, you may need to re-serialize those models with scikit-learn 0.21+.\n",
      "  warnings.warn(msg, category=DeprecationWarning)\n"
     ]
    }
   ],
   "source": [
    "from nipype.interfaces import fsl\n",
    "import os\n",
    "import cv2\n",
    "import numpy as np\n",
    "import nitime\n",
    "from nitime.timeseries import TimeSeries\n",
    "from nitime.analysis import CorrelationAnalyzer, CoherenceAnalyzer\n",
    "from nitime.utils import percent_change\n",
    "import nibabel as nib\n",
    "import nilearn\n",
    "from nilearn import datasets, input_data\n",
    "from nilearn.connectome import ConnectivityMeasure\n",
    "import time\n",
    "from nipype.interfaces import Merge\n",
    "from glob import glob\n",
    "from shutil import copyfile\n",
    "#from nipype.interfaces import Reorient2Std"
   ]
  },
  {
   "cell_type": "markdown",
   "metadata": {},
   "source": [
    "#### Listing the files in Control directory"
   ]
  },
  {
   "cell_type": "code",
   "execution_count": 2,
   "metadata": {},
   "outputs": [
    {
     "data": {
      "text/plain": [
       "['4100_1.nii',\n",
       " '3901_2.nii',\n",
       " '4104_5.nii',\n",
       " '4085_4.nii',\n",
       " '3468_1.nii',\n",
       " '3551_1.nii',\n",
       " '4104_4.nii',\n",
       " '3901_3.nii',\n",
       " '4100_2.nii',\n",
       " '3901_1.nii',\n",
       " '4104_6.nii',\n",
       " '3468_2.nii',\n",
       " '3551_3.nii',\n",
       " '3453_4.nii',\n",
       " '3551_2.nii',\n",
       " '3468_3.nii',\n",
       " '4104_7.nii',\n",
       " '4100_3.nii',\n",
       " '3901_4.nii',\n",
       " '4085_2.nii',\n",
       " '4104_3.nii',\n",
       " '.DS_Store',\n",
       " '3453_1.nii',\n",
       " '4104_2.nii',\n",
       " '4085_3.nii',\n",
       " '4100_4.nii',\n",
       " '4085_1.nii',\n",
       " '3468_4.nii',\n",
       " '3453_2.nii',\n",
       " '3551_4.nii',\n",
       " '3453_3.nii',\n",
       " '4104_1.nii',\n",
       " '4100_5.nii',\n",
       " '3908_8.nii',\n",
       " '3201_4.nii',\n",
       " '4105_5.nii',\n",
       " '4105_4.nii',\n",
       " '3201_1.nii',\n",
       " '4105_1.nii',\n",
       " '3201_2.nii',\n",
       " '4105_3.nii',\n",
       " '4105_2.nii',\n",
       " '3201_3.nii',\n",
       " '3908_1.nii',\n",
       " '4116_5.nii',\n",
       " '4116_4.nii',\n",
       " '3908_2.nii',\n",
       " '3908_3.nii',\n",
       " '3917_4.nii',\n",
       " '3908_7.nii',\n",
       " '4116_3.nii',\n",
       " '3662_2.nii',\n",
       " '4116_2.nii',\n",
       " '3908_6.nii',\n",
       " '3917_1.nii',\n",
       " '3917_3.nii',\n",
       " '3908_4.nii',\n",
       " '4104_10.nii',\n",
       " '4104_11.nii',\n",
       " '3662_1.nii',\n",
       " '4116_1.nii',\n",
       " '3908_5.nii',\n",
       " '3917_2.nii',\n",
       " '3460_1.nii',\n",
       " '3460_2.nii',\n",
       " '3237_4.nii',\n",
       " '3460_3.nii',\n",
       " '3235_2.nii',\n",
       " '3237_1.nii',\n",
       " '3460_4.nii',\n",
       " '3235_1.nii',\n",
       " '4104_9.nii',\n",
       " '3237_3.nii',\n",
       " '3237_2.nii',\n",
       " '4104_8.nii']"
      ]
     },
     "execution_count": 2,
     "metadata": {},
     "output_type": "execute_result"
    }
   ],
   "source": [
    "os.chdir('control_Pre_fsl')\n",
    "subj_list = os.listdir(os.getcwd())\n",
    "subj_list"
   ]
  },
  {
   "cell_type": "markdown",
   "metadata": {},
   "source": [
    "#### Printing the Current FSL directory"
   ]
  },
  {
   "cell_type": "code",
   "execution_count": 3,
   "metadata": {},
   "outputs": [
    {
     "name": "stdout",
     "output_type": "stream",
     "text": [
      "/usr/local/fsl\n"
     ]
    }
   ],
   "source": [
    "FSLDIR = os.environ.get('FSLDIR')\n",
    "os.getcwd()\n",
    "print(FSLDIR)"
   ]
  },
  {
   "cell_type": "markdown",
   "metadata": {},
   "source": [
    "#### Reorient to standard space followed by Robust Brain Extraction"
   ]
  },
  {
   "cell_type": "code",
   "execution_count": 4,
   "metadata": {},
   "outputs": [
    {
     "name": "stdout",
     "output_type": "stream",
     "text": [
      "4100_1.nii\n",
      "3901_2.nii\n",
      "4104_5.nii\n",
      "4085_4.nii\n",
      "3468_1.nii\n",
      "3551_1.nii\n",
      "4104_4.nii\n",
      "3901_3.nii\n",
      "4100_2.nii\n",
      "3901_1.nii\n",
      "4104_6.nii\n",
      "3468_2.nii\n",
      "3551_3.nii\n",
      "3453_4.nii\n",
      "3551_2.nii\n",
      "3468_3.nii\n",
      "4104_7.nii\n",
      "4100_3.nii\n",
      "3901_4.nii\n",
      "4085_2.nii\n",
      "4104_3.nii\n",
      "3453_1.nii\n",
      "4104_2.nii\n",
      "4085_3.nii\n",
      "4100_4.nii\n",
      "4085_1.nii\n",
      "3468_4.nii\n",
      "3453_2.nii\n",
      "3551_4.nii\n",
      "3453_3.nii\n",
      "4104_1.nii\n",
      "4100_5.nii\n",
      "3908_8.nii\n",
      "3201_4.nii\n",
      "4105_5.nii\n",
      "4105_4.nii\n",
      "3201_1.nii\n",
      "4105_1.nii\n",
      "3201_2.nii\n",
      "4105_3.nii\n",
      "4105_2.nii\n",
      "3201_3.nii\n",
      "3908_1.nii\n",
      "4116_5.nii\n",
      "4116_4.nii\n",
      "3908_2.nii\n",
      "3908_3.nii\n",
      "3917_4.nii\n",
      "3908_7.nii\n",
      "4116_3.nii\n",
      "3662_2.nii\n",
      "4116_2.nii\n",
      "3908_6.nii\n",
      "3917_1.nii\n",
      "3917_3.nii\n",
      "3908_4.nii\n",
      "4104_10.nii\n",
      "4104_11.nii\n",
      "3662_1.nii\n",
      "4116_1.nii\n",
      "3908_5.nii\n",
      "3917_2.nii\n",
      "3460_1.nii\n",
      "3460_2.nii\n",
      "3237_4.nii\n",
      "3460_3.nii\n",
      "3235_2.nii\n",
      "3237_1.nii\n",
      "3460_4.nii\n",
      "3235_1.nii\n",
      "4104_9.nii\n",
      "3237_3.nii\n",
      "3237_2.nii\n",
      "4104_8.nii\n"
     ]
    }
   ],
   "source": [
    "# Reorient to standard space\n",
    "for i in subj_list:\n",
    "     if i != '.DS_Store':\n",
    "        print(i)\n",
    "        reorient = fsl.Reorient2Std()\n",
    "        reorient.inputs.in_file = i\n",
    "        reorient.inputs.output_type = 'NIFTI'\n",
    "        name=i[0:6] \n",
    "        reorient.inputs.out_file = name +'_beforeBET.nii'\n",
    "        name1 = name+'_beforeBET.nii'\n",
    "        res = reorient.run()\n",
    "        \n",
    "# Robust Brain Extraction\n",
    "        bt = fsl.BET()\n",
    "        bt.inputs.in_file = name1\n",
    "        bt.inputs.frac = 0.6\n",
    "        bt.inputs.output_type = 'NIFTI'\n",
    "        bt.inputs.functional = True\n",
    "        bt.inputs.out_file = name +'_functional.nii'\n",
    "        name1= name+'_functional.nii'\n",
    "        bt.run()\n",
    "\n",
    "        \n",
    "\n",
    "     "
   ]
  },
  {
   "cell_type": "markdown",
   "metadata": {},
   "source": [
    "#### Copying Pre processed Scan into new directories"
   ]
  },
  {
   "cell_type": "code",
   "execution_count": 9,
   "metadata": {
    "scrolled": true
   },
   "outputs": [
    {
     "name": "stdout",
     "output_type": "stream",
     "text": [
      "3235_1_functional.nii\n",
      "4105_4_functional.nii\n",
      "4104_7_functional.nii\n",
      "3201_2_functional.nii\n",
      "3460_1_functional.nii\n",
      "3662_2_functional.nii\n",
      "4104_8_functional.nii\n",
      "4100_1_functional.nii\n",
      "4105_3_functional.nii\n",
      "4085_2_functional.nii\n",
      "4105_2_functional.nii\n",
      "4104_1_functional.nii\n",
      "4085_3_functional.nii\n",
      "3201_3_functional.nii\n",
      "3901_1_functional.nii\n",
      "4104_9_functional.nii\n",
      "4104_6_functional.nii\n",
      "4105_5_functional.nii\n",
      "4085_4_functional.nii\n",
      "3201_4_functional.nii\n",
      "4104_4_functional.nii\n",
      "4100_5_functional.nii\n",
      "3235_2_functional.nii\n",
      "3901_4_functional.nii\n",
      "4085_1_functional.nii\n",
      "4100_2_functional.nii\n",
      "4104_3_functional.nii\n",
      "3460_2_functional.nii\n",
      "3662_1_functional.nii\n",
      "3901_3_functional.nii\n",
      "3201_1_functional.nii\n",
      "3460_3_functional.nii\n",
      "3901_2_functional.nii\n",
      "4105_1_functional.nii\n",
      "4104_2_functional.nii\n",
      "4100_3_functional.nii\n",
      "3460_4_functional.nii\n",
      "4100_4_functional.nii\n",
      "4104_5_functional.nii\n",
      "3908_7_functional.nii\n",
      "3908_8_functional.nii\n",
      "3237_1_functional.nii\n",
      "4116_1_functional.nii\n",
      "3551_2_functional.nii\n",
      "3468_2_functional.nii\n",
      "3908_1_functional.nii\n",
      "3468_3_functional.nii\n",
      "3551_3_functional.nii\n",
      "3453_1_functional.nii\n",
      "3917_1_functional.nii\n",
      "3908_6_functional.nii\n",
      "3551_4_functional.nii\n",
      "3468_4_functional.nii\n",
      "4116_5_functional.nii\n",
      "3453_4_functional.nii\n",
      "3908_4_functional.nii\n",
      "3917_4_functional.nii\n",
      "3453_3_functional.nii\n",
      "3551_1_functional.nii\n",
      "4116_2_functional.nii\n",
      "3468_1_functional.nii\n",
      "3908_3_functional.nii\n",
      "3237_2_functional.nii\n",
      "3917_3_functional.nii\n",
      "3917_2_functional.nii\n",
      "4116_3_functional.nii\n",
      "3453_2_functional.nii\n",
      "3237_3_functional.nii\n",
      "3908_2_functional.nii\n",
      "4116_4_functional.nii\n",
      "3908_5_functional.nii\n",
      "3237_4_functional.nii\n"
     ]
    }
   ],
   "source": [
    "image_base_checker = glob('*_functional.nii')\n",
    "\n",
    "for filenames in image_base_checker:\n",
    "    print(filenames)\n",
    "    copyfile('/Users/mdjamilurrahman/Downloads/MULTIMEDIA/MM811/Project_Parkinson_Disease/control_pre_fsl/'+filenames, '/Users/mdjamilurrahman/Downloads/MULTIMEDIA/MM811/Project_Parkinson_Disease/control_bet/'+filenames)             \n",
    "          \n",
    "    \n",
    "    \n"
   ]
  }
 ],
 "metadata": {
  "kernelspec": {
   "display_name": "Python 3",
   "language": "python",
   "name": "python3"
  },
  "language_info": {
   "codemirror_mode": {
    "name": "ipython",
    "version": 3
   },
   "file_extension": ".py",
   "mimetype": "text/x-python",
   "name": "python",
   "nbconvert_exporter": "python",
   "pygments_lexer": "ipython3",
   "version": "3.7.4"
  }
 },
 "nbformat": 4,
 "nbformat_minor": 2
}
