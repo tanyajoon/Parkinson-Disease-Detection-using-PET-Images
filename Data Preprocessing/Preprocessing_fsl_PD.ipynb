{
 "cells": [
  {
   "cell_type": "markdown",
   "metadata": {},
   "source": [
    "#### Importing Dependencies"
   ]
  },
  {
   "cell_type": "code",
   "execution_count": 1,
   "metadata": {},
   "outputs": [
    {
     "name": "stderr",
     "output_type": "stream",
     "text": [
      "/Users/mdjamilurrahman/anaconda3/lib/python3.7/site-packages/sklearn/externals/joblib/__init__.py:15: DeprecationWarning: sklearn.externals.joblib is deprecated in 0.21 and will be removed in 0.23. Please import this functionality directly from joblib, which can be installed with: pip install joblib. If this warning is raised when loading pickled models, you may need to re-serialize those models with scikit-learn 0.21+.\n",
      "  warnings.warn(msg, category=DeprecationWarning)\n"
     ]
    }
   ],
   "source": [
    "from nipype.interfaces import fsl\n",
    "import os\n",
    "import cv2\n",
    "import numpy as np\n",
    "import nitime\n",
    "from nitime.timeseries import TimeSeries\n",
    "from nitime.analysis import CorrelationAnalyzer, CoherenceAnalyzer\n",
    "from nitime.utils import percent_change\n",
    "import nibabel as nib\n",
    "import nilearn\n",
    "from nilearn import datasets, input_data\n",
    "from nilearn.connectome import ConnectivityMeasure\n",
    "import time\n",
    "from nipype.interfaces import Merge\n",
    "from glob import glob\n",
    "from shutil import copyfile\n",
    "#from nipype.interfaces import Reorient2Std"
   ]
  },
  {
   "cell_type": "markdown",
   "metadata": {},
   "source": [
    "#### Listing the files in PD directory"
   ]
  },
  {
   "cell_type": "code",
   "execution_count": 2,
   "metadata": {},
   "outputs": [
    {
     "data": {
      "text/plain": [
       "['3228.nii',\n",
       " '.DS_Store',\n",
       " '4055.nii',\n",
       " '4082.nii',\n",
       " '4096.nii',\n",
       " '3666.nii',\n",
       " '4135.nii',\n",
       " '4108.nii',\n",
       " '3459.nii',\n",
       " '4083.nii',\n",
       " '4081.nii',\n",
       " '3665.nii',\n",
       " '3664.nii',\n",
       " '4094.nii',\n",
       " '4057.nii',\n",
       " '3661.nii',\n",
       " '4091.nii',\n",
       " '4093.nii',\n",
       " '3448.nii',\n",
       " '4051.nii',\n",
       " '3914.nii',\n",
       " '3900.nii',\n",
       " '3445.nii',\n",
       " '3444.nii',\n",
       " '4117.nii',\n",
       " '4102.nii',\n",
       " '3123.nii',\n",
       " '3916.nii',\n",
       " '3443.nii',\n",
       " '4106.nii',\n",
       " '3132.nii',\n",
       " '4113.nii',\n",
       " '4098.nii',\n",
       " '3911.nii',\n",
       " '3905.nii',\n",
       " '4111.nii',\n",
       " '3124.nii',\n",
       " '3125.nii',\n",
       " '3910.nii',\n",
       " '4058.nii',\n",
       " '3234.nii',\n",
       " '3220.nii',\n",
       " '3433.nii',\n",
       " '3223.nii',\n",
       " '3431.nii',\n",
       " '3418.nii',\n",
       " '3435.nii',\n",
       " '3409.nii',\n",
       " '3225.nii',\n",
       " '3423.nii',\n",
       " '3436.nii',\n",
       " '3422.nii',\n",
       " '3230.nii']"
      ]
     },
     "execution_count": 2,
     "metadata": {},
     "output_type": "execute_result"
    }
   ],
   "source": [
    "os.chdir('pd_pre_fsl')\n",
    "subj_list = os.listdir(os.getcwd())\n",
    "subj_list"
   ]
  },
  {
   "cell_type": "markdown",
   "metadata": {},
   "source": [
    "#### Printing the Current FSL directory"
   ]
  },
  {
   "cell_type": "code",
   "execution_count": 3,
   "metadata": {},
   "outputs": [
    {
     "name": "stdout",
     "output_type": "stream",
     "text": [
      "/usr/local/fsl\n"
     ]
    }
   ],
   "source": [
    "FSLDIR = os.environ.get('FSLDIR')\n",
    "os.getcwd()\n",
    "print(FSLDIR)"
   ]
  },
  {
   "cell_type": "markdown",
   "metadata": {},
   "source": [
    "#### Reorient to standard space followed by Robust Brain Extraction"
   ]
  },
  {
   "cell_type": "code",
   "execution_count": 4,
   "metadata": {},
   "outputs": [
    {
     "name": "stdout",
     "output_type": "stream",
     "text": [
      "3228.nii\n",
      "4055.nii\n",
      "4082.nii\n",
      "4096.nii\n",
      "3666.nii\n",
      "4135.nii\n",
      "4108.nii\n",
      "3459.nii\n",
      "4083.nii\n",
      "4081.nii\n",
      "3665.nii\n",
      "3664.nii\n",
      "4094.nii\n",
      "4057.nii\n",
      "3661.nii\n",
      "4091.nii\n",
      "4093.nii\n",
      "3448.nii\n",
      "4051.nii\n",
      "3914.nii\n",
      "3900.nii\n",
      "3445.nii\n",
      "3444.nii\n",
      "4117.nii\n",
      "4102.nii\n",
      "3123.nii\n",
      "3916.nii\n",
      "3443.nii\n",
      "4106.nii\n",
      "3132.nii\n",
      "4113.nii\n",
      "4098.nii\n",
      "3911.nii\n",
      "3905.nii\n",
      "4111.nii\n",
      "3124.nii\n",
      "3125.nii\n",
      "3910.nii\n",
      "4058.nii\n",
      "3234.nii\n",
      "3220.nii\n",
      "3433.nii\n",
      "3223.nii\n",
      "3431.nii\n",
      "3418.nii\n",
      "3435.nii\n",
      "3409.nii\n",
      "3225.nii\n",
      "3423.nii\n",
      "3436.nii\n",
      "3422.nii\n",
      "3230.nii\n"
     ]
    }
   ],
   "source": [
    "# Reorient to standard space\n",
    "for i in subj_list:\n",
    "     if i != '.DS_Store':\n",
    "        print(i)\n",
    "        reorient = fsl.Reorient2Std()\n",
    "        reorient.inputs.in_file = i\n",
    "        reorient.inputs.output_type = 'NIFTI'\n",
    "        name=i[0:4] \n",
    "        reorient.inputs.out_file = name +'_beforeBET.nii'\n",
    "        name1 = name+'_beforeBET.nii'\n",
    "        res = reorient.run()\n",
    "        \n",
    "# Robust Brain Extraction\n",
    "        bt = fsl.BET()\n",
    "        bt.inputs.in_file = name1\n",
    "        bt.inputs.frac = 0.6\n",
    "        bt.inputs.output_type = 'NIFTI'\n",
    "        bt.inputs.functional = True\n",
    "        bt.inputs.out_file = name +'_functional.nii'\n",
    "        name1= name+'_functional.nii'\n",
    "        bt.run()\n",
    "        \n",
    "\n",
    "\n",
    "     "
   ]
  },
  {
   "cell_type": "markdown",
   "metadata": {},
   "source": [
    "#### Copying Pre processed Scan into new directories"
   ]
  },
  {
   "cell_type": "code",
   "execution_count": 6,
   "metadata": {},
   "outputs": [
    {
     "name": "stdout",
     "output_type": "stream",
     "text": [
      "3445_functional.nii\n",
      "3123_functional.nii\n",
      "3916_functional.nii\n",
      "3661_functional.nii\n",
      "4055_functional.nii\n",
      "3124_functional.nii\n",
      "3433_functional.nii\n",
      "3666_functional.nii\n",
      "4135_functional.nii\n",
      "3911_functional.nii\n",
      "3905_functional.nii\n",
      "3910_functional.nii\n",
      "3443_functional.nii\n",
      "3125_functional.nii\n",
      "3459_functional.nii\n",
      "3444_functional.nii\n",
      "3435_functional.nii\n",
      "3900_functional.nii\n",
      "3422_functional.nii\n",
      "4051_functional.nii\n",
      "3665_functional.nii\n",
      "3132_functional.nii\n",
      "3431_functional.nii\n",
      "4058_functional.nii\n",
      "3448_functional.nii\n",
      "3664_functional.nii\n",
      "3423_functional.nii\n",
      "3436_functional.nii\n",
      "4057_functional.nii\n",
      "3914_functional.nii\n",
      "4094_functional.nii\n",
      "4081_functional.nii\n",
      "4111_functional.nii\n",
      "4093_functional.nii\n",
      "3228_functional.nii\n",
      "3220_functional.nii\n",
      "3418_functional.nii\n",
      "3234_functional.nii\n",
      "4117_functional.nii\n",
      "4102_functional.nii\n",
      "3409_functional.nii\n",
      "4082_functional.nii\n",
      "4098_functional.nii\n",
      "3223_functional.nii\n",
      "4108_functional.nii\n",
      "4091_functional.nii\n",
      "4096_functional.nii\n",
      "4083_functional.nii\n",
      "4113_functional.nii\n",
      "4106_functional.nii\n",
      "3230_functional.nii\n",
      "3225_functional.nii\n"
     ]
    }
   ],
   "source": [
    "from glob import glob\n",
    "from shutil import copyfile\n",
    "\n",
    "image_base_checker = glob('*_functional.nii')\n",
    "\n",
    "for filenames in image_base_checker:\n",
    "    print(filenames)\n",
    "    copyfile('/Users/mdjamilurrahman/Downloads/MULTIMEDIA/MM811/Project_Parkinson_Disease/pd_pre_fsl/'+filenames, '/Users/mdjamilurrahman/Downloads/MULTIMEDIA/MM811/Project_Parkinson_Disease/pd_bet/'+filenames)             \n",
    "          \n",
    "    \n",
    "    "
   ]
  }
 ],
 "metadata": {
  "kernelspec": {
   "display_name": "Python 3",
   "language": "python",
   "name": "python3"
  },
  "language_info": {
   "codemirror_mode": {
    "name": "ipython",
    "version": 3
   },
   "file_extension": ".py",
   "mimetype": "text/x-python",
   "name": "python",
   "nbconvert_exporter": "python",
   "pygments_lexer": "ipython3",
   "version": "3.7.4"
  }
 },
 "nbformat": 4,
 "nbformat_minor": 2
}
